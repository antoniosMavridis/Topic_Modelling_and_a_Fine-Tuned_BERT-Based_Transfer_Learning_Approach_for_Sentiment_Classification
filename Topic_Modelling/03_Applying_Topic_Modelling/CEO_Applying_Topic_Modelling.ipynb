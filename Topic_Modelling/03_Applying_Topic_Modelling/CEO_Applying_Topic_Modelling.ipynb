{
  "cells": [
    {
      "cell_type": "markdown",
      "metadata": {
        "id": "p6uLw_VKPcgI"
      },
      "source": [
        "## **Import Neccesary Libraies**"
      ]
    },
    {
      "cell_type": "code",
      "execution_count": 1,
      "metadata": {
        "colab": {
          "base_uri": "https://localhost:8080/"
        },
        "id": "mHoPtrgOPbSU",
        "outputId": "f32f6d4f-6db3-45db-c0eb-6746cebb8a91"
      },
      "outputs": [
        {
          "output_type": "stream",
          "name": "stdout",
          "text": [
            "Looking in indexes: https://pypi.org/simple, https://us-python.pkg.dev/colab-wheels/public/simple/\n",
            "Requirement already satisfied: wordcloud in /usr/local/lib/python3.7/dist-packages (1.8.2.2)\n",
            "Requirement already satisfied: matplotlib in /usr/local/lib/python3.7/dist-packages (from wordcloud) (3.2.2)\n",
            "Requirement already satisfied: pillow in /usr/local/lib/python3.7/dist-packages (from wordcloud) (7.1.2)\n",
            "Requirement already satisfied: numpy>=1.6.1 in /usr/local/lib/python3.7/dist-packages (from wordcloud) (1.21.6)\n",
            "Requirement already satisfied: cycler>=0.10 in /usr/local/lib/python3.7/dist-packages (from matplotlib->wordcloud) (0.11.0)\n",
            "Requirement already satisfied: python-dateutil>=2.1 in /usr/local/lib/python3.7/dist-packages (from matplotlib->wordcloud) (2.8.2)\n",
            "Requirement already satisfied: pyparsing!=2.0.4,!=2.1.2,!=2.1.6,>=2.0.1 in /usr/local/lib/python3.7/dist-packages (from matplotlib->wordcloud) (3.0.9)\n",
            "Requirement already satisfied: kiwisolver>=1.0.1 in /usr/local/lib/python3.7/dist-packages (from matplotlib->wordcloud) (1.4.4)\n",
            "Requirement already satisfied: typing-extensions in /usr/local/lib/python3.7/dist-packages (from kiwisolver>=1.0.1->matplotlib->wordcloud) (4.1.1)\n",
            "Requirement already satisfied: six>=1.5 in /usr/local/lib/python3.7/dist-packages (from python-dateutil>=2.1->matplotlib->wordcloud) (1.15.0)\n",
            "Looking in indexes: https://pypi.org/simple, https://us-python.pkg.dev/colab-wheels/public/simple/\n",
            "Requirement already satisfied: textblob in /usr/local/lib/python3.7/dist-packages (0.15.3)\n",
            "Requirement already satisfied: nltk>=3.1 in /usr/local/lib/python3.7/dist-packages (from textblob) (3.7)\n",
            "Requirement already satisfied: joblib in /usr/local/lib/python3.7/dist-packages (from nltk>=3.1->textblob) (1.1.0)\n",
            "Requirement already satisfied: click in /usr/local/lib/python3.7/dist-packages (from nltk>=3.1->textblob) (7.1.2)\n",
            "Requirement already satisfied: regex>=2021.8.3 in /usr/local/lib/python3.7/dist-packages (from nltk>=3.1->textblob) (2022.6.2)\n",
            "Requirement already satisfied: tqdm in /usr/local/lib/python3.7/dist-packages (from nltk>=3.1->textblob) (4.64.0)\n",
            "Looking in indexes: https://pypi.org/simple, https://us-python.pkg.dev/colab-wheels/public/simple/\n",
            "Requirement already satisfied: gensim in /usr/local/lib/python3.7/dist-packages (3.6.0)\n",
            "Requirement already satisfied: six>=1.5.0 in /usr/local/lib/python3.7/dist-packages (from gensim) (1.15.0)\n",
            "Requirement already satisfied: scipy>=0.18.1 in /usr/local/lib/python3.7/dist-packages (from gensim) (1.7.3)\n",
            "Requirement already satisfied: numpy>=1.11.3 in /usr/local/lib/python3.7/dist-packages (from gensim) (1.21.6)\n",
            "Requirement already satisfied: smart-open>=1.2.1 in /usr/local/lib/python3.7/dist-packages (from gensim) (5.2.1)\n",
            "Looking in indexes: https://pypi.org/simple, https://us-python.pkg.dev/colab-wheels/public/simple/\n",
            "Requirement already satisfied: spacy in /usr/local/lib/python3.7/dist-packages (3.4.1)\n",
            "Requirement already satisfied: numpy>=1.15.0 in /usr/local/lib/python3.7/dist-packages (from spacy) (1.21.6)\n",
            "Requirement already satisfied: cymem<2.1.0,>=2.0.2 in /usr/local/lib/python3.7/dist-packages (from spacy) (2.0.6)\n",
            "Requirement already satisfied: preshed<3.1.0,>=3.0.2 in /usr/local/lib/python3.7/dist-packages (from spacy) (3.0.7)\n",
            "Requirement already satisfied: spacy-legacy<3.1.0,>=3.0.9 in /usr/local/lib/python3.7/dist-packages (from spacy) (3.0.10)\n",
            "Requirement already satisfied: requests<3.0.0,>=2.13.0 in /usr/local/lib/python3.7/dist-packages (from spacy) (2.23.0)\n",
            "Requirement already satisfied: pydantic!=1.8,!=1.8.1,<1.10.0,>=1.7.4 in /usr/local/lib/python3.7/dist-packages (from spacy) (1.9.2)\n",
            "Requirement already satisfied: srsly<3.0.0,>=2.4.3 in /usr/local/lib/python3.7/dist-packages (from spacy) (2.4.4)\n",
            "Requirement already satisfied: typer<0.5.0,>=0.3.0 in /usr/local/lib/python3.7/dist-packages (from spacy) (0.4.2)\n",
            "Requirement already satisfied: murmurhash<1.1.0,>=0.28.0 in /usr/local/lib/python3.7/dist-packages (from spacy) (1.0.8)\n",
            "Requirement already satisfied: pathy>=0.3.5 in /usr/local/lib/python3.7/dist-packages (from spacy) (0.6.2)\n",
            "Requirement already satisfied: jinja2 in /usr/local/lib/python3.7/dist-packages (from spacy) (2.11.3)\n",
            "Requirement already satisfied: catalogue<2.1.0,>=2.0.6 in /usr/local/lib/python3.7/dist-packages (from spacy) (2.0.8)\n",
            "Requirement already satisfied: wasabi<1.1.0,>=0.9.1 in /usr/local/lib/python3.7/dist-packages (from spacy) (0.10.1)\n",
            "Requirement already satisfied: tqdm<5.0.0,>=4.38.0 in /usr/local/lib/python3.7/dist-packages (from spacy) (4.64.0)\n",
            "Requirement already satisfied: langcodes<4.0.0,>=3.2.0 in /usr/local/lib/python3.7/dist-packages (from spacy) (3.3.0)\n",
            "Requirement already satisfied: thinc<8.2.0,>=8.1.0 in /usr/local/lib/python3.7/dist-packages (from spacy) (8.1.0)\n",
            "Requirement already satisfied: setuptools in /usr/local/lib/python3.7/dist-packages (from spacy) (57.4.0)\n",
            "Requirement already satisfied: typing-extensions<4.2.0,>=3.7.4 in /usr/local/lib/python3.7/dist-packages (from spacy) (4.1.1)\n",
            "Requirement already satisfied: packaging>=20.0 in /usr/local/lib/python3.7/dist-packages (from spacy) (21.3)\n",
            "Requirement already satisfied: spacy-loggers<2.0.0,>=1.0.0 in /usr/local/lib/python3.7/dist-packages (from spacy) (1.0.3)\n",
            "Requirement already satisfied: zipp>=0.5 in /usr/local/lib/python3.7/dist-packages (from catalogue<2.1.0,>=2.0.6->spacy) (3.8.1)\n",
            "Requirement already satisfied: pyparsing!=3.0.5,>=2.0.2 in /usr/local/lib/python3.7/dist-packages (from packaging>=20.0->spacy) (3.0.9)\n",
            "Requirement already satisfied: smart-open<6.0.0,>=5.2.1 in /usr/local/lib/python3.7/dist-packages (from pathy>=0.3.5->spacy) (5.2.1)\n",
            "Requirement already satisfied: urllib3!=1.25.0,!=1.25.1,<1.26,>=1.21.1 in /usr/local/lib/python3.7/dist-packages (from requests<3.0.0,>=2.13.0->spacy) (1.24.3)\n",
            "Requirement already satisfied: chardet<4,>=3.0.2 in /usr/local/lib/python3.7/dist-packages (from requests<3.0.0,>=2.13.0->spacy) (3.0.4)\n",
            "Requirement already satisfied: idna<3,>=2.5 in /usr/local/lib/python3.7/dist-packages (from requests<3.0.0,>=2.13.0->spacy) (2.10)\n",
            "Requirement already satisfied: certifi>=2017.4.17 in /usr/local/lib/python3.7/dist-packages (from requests<3.0.0,>=2.13.0->spacy) (2022.6.15)\n",
            "Requirement already satisfied: blis<0.8.0,>=0.7.8 in /usr/local/lib/python3.7/dist-packages (from thinc<8.2.0,>=8.1.0->spacy) (0.7.8)\n",
            "Requirement already satisfied: click<9.0.0,>=7.1.1 in /usr/local/lib/python3.7/dist-packages (from typer<0.5.0,>=0.3.0->spacy) (7.1.2)\n",
            "Requirement already satisfied: MarkupSafe>=0.23 in /usr/local/lib/python3.7/dist-packages (from jinja2->spacy) (2.0.1)\n",
            "Looking in indexes: https://pypi.org/simple, https://us-python.pkg.dev/colab-wheels/public/simple/\n",
            "Collecting biterm\n",
            "  Downloading biterm-0.1.5.tar.gz (79 kB)\n",
            "\u001b[K     |████████████████████████████████| 79 kB 3.4 MB/s \n",
            "\u001b[?25hRequirement already satisfied: numpy in /usr/local/lib/python3.7/dist-packages (from biterm) (1.21.6)\n",
            "Requirement already satisfied: tqdm in /usr/local/lib/python3.7/dist-packages (from biterm) (4.64.0)\n",
            "Requirement already satisfied: cython in /usr/local/lib/python3.7/dist-packages (from biterm) (0.29.32)\n",
            "Requirement already satisfied: nltk in /usr/local/lib/python3.7/dist-packages (from biterm) (3.7)\n",
            "Requirement already satisfied: joblib in /usr/local/lib/python3.7/dist-packages (from nltk->biterm) (1.1.0)\n",
            "Requirement already satisfied: regex>=2021.8.3 in /usr/local/lib/python3.7/dist-packages (from nltk->biterm) (2022.6.2)\n",
            "Requirement already satisfied: click in /usr/local/lib/python3.7/dist-packages (from nltk->biterm) (7.1.2)\n",
            "Building wheels for collected packages: biterm\n",
            "  Building wheel for biterm (setup.py) ... \u001b[?25l\u001b[?25hdone\n",
            "  Created wheel for biterm: filename=biterm-0.1.5-cp37-cp37m-linux_x86_64.whl size=195874 sha256=72ad144ec5222d4bee416972548f9ba7484687b5c49646de51941292db9c76ba\n",
            "  Stored in directory: /root/.cache/pip/wheels/35/45/73/c4a79327f13728b195c12f35aa9331f897e37786f8e446cb09\n",
            "Successfully built biterm\n",
            "Installing collected packages: biterm\n",
            "Successfully installed biterm-0.1.5\n",
            "Looking in indexes: https://pypi.org/simple, https://us-python.pkg.dev/colab-wheels/public/simple/\n",
            "Collecting corextopic\n",
            "  Downloading corextopic-1.1-py3-none-any.whl (27 kB)\n",
            "Installing collected packages: corextopic\n",
            "Successfully installed corextopic-1.1\n"
          ]
        },
        {
          "output_type": "stream",
          "name": "stderr",
          "text": [
            "[nltk_data] Downloading package stopwords to /root/nltk_data...\n",
            "[nltk_data]   Unzipping corpora/stopwords.zip.\n",
            "[nltk_data] Downloading package wordnet to /root/nltk_data...\n"
          ]
        },
        {
          "output_type": "stream",
          "name": "stdout",
          "text": [
            "Looking in indexes: https://pypi.org/simple, https://us-python.pkg.dev/colab-wheels/public/simple/\n",
            "Collecting pyLDAvis\n",
            "  Downloading pyLDAvis-3.3.1.tar.gz (1.7 MB)\n",
            "\u001b[K     |████████████████████████████████| 1.7 MB 5.3 MB/s \n",
            "\u001b[?25h  Installing build dependencies ... \u001b[?25l\u001b[?25hdone\n",
            "  Getting requirements to build wheel ... \u001b[?25l\u001b[?25hdone\n",
            "  Installing backend dependencies ... \u001b[?25l\u001b[?25hdone\n",
            "    Preparing wheel metadata ... \u001b[?25l\u001b[?25hdone\n",
            "Requirement already satisfied: gensim in /usr/local/lib/python3.7/dist-packages (from pyLDAvis) (3.6.0)\n",
            "Requirement already satisfied: setuptools in /usr/local/lib/python3.7/dist-packages (from pyLDAvis) (57.4.0)\n",
            "Requirement already satisfied: numpy>=1.20.0 in /usr/local/lib/python3.7/dist-packages (from pyLDAvis) (1.21.6)\n",
            "Requirement already satisfied: numexpr in /usr/local/lib/python3.7/dist-packages (from pyLDAvis) (2.8.3)\n",
            "Requirement already satisfied: future in /usr/local/lib/python3.7/dist-packages (from pyLDAvis) (0.16.0)\n",
            "Requirement already satisfied: scipy in /usr/local/lib/python3.7/dist-packages (from pyLDAvis) (1.7.3)\n",
            "Collecting funcy\n",
            "  Downloading funcy-1.17-py2.py3-none-any.whl (33 kB)\n",
            "Requirement already satisfied: jinja2 in /usr/local/lib/python3.7/dist-packages (from pyLDAvis) (2.11.3)\n",
            "Requirement already satisfied: joblib in /usr/local/lib/python3.7/dist-packages (from pyLDAvis) (1.1.0)\n",
            "Requirement already satisfied: scikit-learn in /usr/local/lib/python3.7/dist-packages (from pyLDAvis) (1.0.2)\n",
            "Requirement already satisfied: pandas>=1.2.0 in /usr/local/lib/python3.7/dist-packages (from pyLDAvis) (1.3.5)\n",
            "Collecting sklearn\n",
            "  Downloading sklearn-0.0.tar.gz (1.1 kB)\n",
            "Requirement already satisfied: pytz>=2017.3 in /usr/local/lib/python3.7/dist-packages (from pandas>=1.2.0->pyLDAvis) (2022.2.1)\n",
            "Requirement already satisfied: python-dateutil>=2.7.3 in /usr/local/lib/python3.7/dist-packages (from pandas>=1.2.0->pyLDAvis) (2.8.2)\n",
            "Requirement already satisfied: six>=1.5 in /usr/local/lib/python3.7/dist-packages (from python-dateutil>=2.7.3->pandas>=1.2.0->pyLDAvis) (1.15.0)\n",
            "Requirement already satisfied: smart-open>=1.2.1 in /usr/local/lib/python3.7/dist-packages (from gensim->pyLDAvis) (5.2.1)\n",
            "Requirement already satisfied: MarkupSafe>=0.23 in /usr/local/lib/python3.7/dist-packages (from jinja2->pyLDAvis) (2.0.1)\n",
            "Requirement already satisfied: packaging in /usr/local/lib/python3.7/dist-packages (from numexpr->pyLDAvis) (21.3)\n",
            "Requirement already satisfied: pyparsing!=3.0.5,>=2.0.2 in /usr/local/lib/python3.7/dist-packages (from packaging->numexpr->pyLDAvis) (3.0.9)\n",
            "Requirement already satisfied: threadpoolctl>=2.0.0 in /usr/local/lib/python3.7/dist-packages (from scikit-learn->pyLDAvis) (3.1.0)\n",
            "Building wheels for collected packages: pyLDAvis, sklearn\n",
            "  Building wheel for pyLDAvis (PEP 517) ... \u001b[?25l\u001b[?25hdone\n",
            "  Created wheel for pyLDAvis: filename=pyLDAvis-3.3.1-py2.py3-none-any.whl size=136898 sha256=de48b110badb8f72b178859d58fd36fd1d0df1f00e3ff3ec1271e0755a1d6eba\n",
            "  Stored in directory: /root/.cache/pip/wheels/c9/21/f6/17bcf2667e8a68532ba2fbf6d5c72fdf4c7f7d9abfa4852d2f\n",
            "  Building wheel for sklearn (setup.py) ... \u001b[?25l\u001b[?25hdone\n",
            "  Created wheel for sklearn: filename=sklearn-0.0-py2.py3-none-any.whl size=1310 sha256=1658399822ae42f4df62014487e85ba6432f443e22de9f1f04adcaba9f7873e3\n",
            "  Stored in directory: /root/.cache/pip/wheels/46/ef/c3/157e41f5ee1372d1be90b09f74f82b10e391eaacca8f22d33e\n",
            "Successfully built pyLDAvis sklearn\n",
            "Installing collected packages: sklearn, funcy, pyLDAvis\n",
            "Successfully installed funcy-1.17 pyLDAvis-3.3.1 sklearn-0.0\n"
          ]
        },
        {
          "output_type": "stream",
          "name": "stderr",
          "text": [
            "/usr/local/lib/python3.7/dist-packages/past/types/oldstr.py:5: DeprecationWarning: Using or importing the ABCs from 'collections' instead of from 'collections.abc' is deprecated since Python 3.3,and in 3.9 it will stop working\n",
            "  from collections import Iterable\n"
          ]
        }
      ],
      "source": [
        "! pip install wordcloud\n",
        "! pip install textblob\n",
        "! pip install gensim\n",
        "#! pip install gensim==3.6.0\n",
        "! pip install spacy\n",
        "! pip install biterm\n",
        "! pip install corextopic\n",
        "\n",
        "# Start with loading all necessary libraries\n",
        "import numpy as np\n",
        "import pandas as pd\n",
        "import sklearn\n",
        "from sklearn.decomposition import LatentDirichletAllocation\n",
        "from sklearn.model_selection import GridSearchCV\n",
        "import string\n",
        "import seaborn as sns\n",
        "import nltk\n",
        "nltk.download('stopwords')\n",
        "nltk.download('wordnet')\n",
        "import gensim\n",
        "from gensim import corpora\n",
        "from nltk.corpus import stopwords\n",
        "from nltk.stem.wordnet import WordNetLemmatizer\n",
        "from wordcloud import WordCloud, STOPWORDS, ImageColorGenerator\n",
        "from sklearn.feature_extraction.text import TfidfVectorizer\n",
        "from textblob import TextBlob\n",
        "from collections import Counter\n",
        "from itertools import chain\n",
        "import pprint\n",
        "from pprint import pprint\n",
        "\n",
        "from IPython.core.interactiveshell import InteractiveShell \n",
        "InteractiveShell.ast_node_interactivity = \"all\"\n",
        "\n",
        "#pd.set_option('display.max_colwidth', None)\n",
        "# libraries for visualization\n",
        "! pip install pyLDAvis\n",
        "import pyLDAvis\n",
        "import pyLDAvis.gensim_models \n",
        "from gensim.utils import simple_preprocess\n",
        "from gensim.models import CoherenceModel\n",
        "import matplotlib.pyplot as plt\n",
        "%matplotlib inline"
      ]
    },
    {
      "cell_type": "code",
      "execution_count": 2,
      "metadata": {
        "id": "RyAsaKZISHwe"
      },
      "outputs": [],
      "source": [
        "import warnings\n",
        "warnings.filterwarnings('ignore')"
      ]
    },
    {
      "cell_type": "markdown",
      "metadata": {
        "id": "CfRLTFEqP8bF"
      },
      "source": [
        "## **Read Preprosecced Pickle and Group by** "
      ]
    },
    {
      "cell_type": "code",
      "execution_count": 5,
      "metadata": {
        "colab": {
          "base_uri": "https://localhost:8080/",
          "height": 510
        },
        "id": "jtA0k3PyQGdN",
        "outputId": "728abe6a-8e4e-4143-a02c-4ca37b776d72"
      },
      "outputs": [
        {
          "output_type": "execute_result",
          "data": {
            "text/plain": [
              "   username            id            date  \\\n",
              "0  @Benioff  1.520000e+18  4/30/2022 6:44   \n",
              "1  @Benioff  1.520000e+18  4/30/2022 0:09   \n",
              "2  @Benioff  1.520000e+18  4/29/2022 7:32   \n",
              "3  @Benioff  1.520000e+18  4/29/2022 7:01   \n",
              "4  @Benioff  1.520000e+18  4/29/2022 6:54   \n",
              "\n",
              "                                               tweet  retweets  likes  \\\n",
              "0  RT @YoshikiOfficial: Beautiful place, Marc! \\n...     457.0    0.0   \n",
              "1  RT @MercedesAMG: A project which takes our par...      49.0    0.0   \n",
              "2  RT @swbjoyce: Grateful to work with the best t...      27.0    0.0   \n",
              "3  RT @btaylor: It was great to host many of the ...      10.0    0.0   \n",
              "4  RT @btaylor: It was wonderful to reconnect wit...       9.0    0.0   \n",
              "\n",
              "                                            mentions          tags  \\\n",
              "0  [Benioff, Sa, RahmEmanuel, YoshikiOfficial, US...  [Ambassador]   \n",
              "1                             [MercedesAMG, iamwill]            []   \n",
              "2                             [swbjoyce, salesforce]       [TDX22]   \n",
              "3                                          [btaylor]            []   \n",
              "4                              [btaylor, Salesforce]            []   \n",
              "\n",
              "                                         tweet_clean  \\\n",
              "0  RT : Beautiful place, Marc! Had a great time w...   \n",
              "1  RT : A project which takes our partnership to ...   \n",
              "2  RT : Grateful to work with the best team in th...   \n",
              "3  RT : It was great to host many of the MVPs att...   \n",
              "4  RT : It was wonderful to reconnect with vetera...   \n",
              "\n",
              "                                        tweet_tokens  \\\n",
              "0  [beautiful, place, marc, great, time, great, c...   \n",
              "1  [project, takes, partnership, next, level, sta...   \n",
              "2  [grateful, work, best, team, biz, incredible, ...   \n",
              "3  [great, host, many, mvps, attending, trailblaz...   \n",
              "4  [wonderful, reconnect, veterans, today, inspir...   \n",
              "\n",
              "                                    tweet_tokens_lem  \\\n",
              "0  [beautiful, place, marc, great, time, great, c...   \n",
              "1  [project, take, partnership, next, level, stay...   \n",
              "2  [grateful, work, best, team, biz, incredible, ...   \n",
              "3  [great, host, many, mvp, attending, trailblaze...   \n",
              "4  [wonderful, reconnect, veteran, today, inspiri...   \n",
              "\n",
              "                                           tweet_new  \n",
              "0  [yoshikiofficial, beautiful, place, marc, grea...  \n",
              "1  [mercedesamg, project, takes, partnership, nex...  \n",
              "2  [swbjoyce, grateful, work, best, team, biz, in...  \n",
              "3  [btaylor, great, host, many, mvps, attending, ...  \n",
              "4  [btaylor, wonderful, reconnect, veterans, sale...  "
            ],
            "text/html": [
              "\n",
              "  <div id=\"df-89a6b046-2004-4ff4-a089-6b90271e989c\">\n",
              "    <div class=\"colab-df-container\">\n",
              "      <div>\n",
              "<style scoped>\n",
              "    .dataframe tbody tr th:only-of-type {\n",
              "        vertical-align: middle;\n",
              "    }\n",
              "\n",
              "    .dataframe tbody tr th {\n",
              "        vertical-align: top;\n",
              "    }\n",
              "\n",
              "    .dataframe thead th {\n",
              "        text-align: right;\n",
              "    }\n",
              "</style>\n",
              "<table border=\"1\" class=\"dataframe\">\n",
              "  <thead>\n",
              "    <tr style=\"text-align: right;\">\n",
              "      <th></th>\n",
              "      <th>username</th>\n",
              "      <th>id</th>\n",
              "      <th>date</th>\n",
              "      <th>tweet</th>\n",
              "      <th>retweets</th>\n",
              "      <th>likes</th>\n",
              "      <th>mentions</th>\n",
              "      <th>tags</th>\n",
              "      <th>tweet_clean</th>\n",
              "      <th>tweet_tokens</th>\n",
              "      <th>tweet_tokens_lem</th>\n",
              "      <th>tweet_new</th>\n",
              "    </tr>\n",
              "  </thead>\n",
              "  <tbody>\n",
              "    <tr>\n",
              "      <th>0</th>\n",
              "      <td>@Benioff</td>\n",
              "      <td>1.520000e+18</td>\n",
              "      <td>4/30/2022 6:44</td>\n",
              "      <td>RT @YoshikiOfficial: Beautiful place, Marc! \\n...</td>\n",
              "      <td>457.0</td>\n",
              "      <td>0.0</td>\n",
              "      <td>[Benioff, Sa, RahmEmanuel, YoshikiOfficial, US...</td>\n",
              "      <td>[Ambassador]</td>\n",
              "      <td>RT : Beautiful place, Marc! Had a great time w...</td>\n",
              "      <td>[beautiful, place, marc, great, time, great, c...</td>\n",
              "      <td>[beautiful, place, marc, great, time, great, c...</td>\n",
              "      <td>[yoshikiofficial, beautiful, place, marc, grea...</td>\n",
              "    </tr>\n",
              "    <tr>\n",
              "      <th>1</th>\n",
              "      <td>@Benioff</td>\n",
              "      <td>1.520000e+18</td>\n",
              "      <td>4/30/2022 0:09</td>\n",
              "      <td>RT @MercedesAMG: A project which takes our par...</td>\n",
              "      <td>49.0</td>\n",
              "      <td>0.0</td>\n",
              "      <td>[MercedesAMG, iamwill]</td>\n",
              "      <td>[]</td>\n",
              "      <td>RT : A project which takes our partnership to ...</td>\n",
              "      <td>[project, takes, partnership, next, level, sta...</td>\n",
              "      <td>[project, take, partnership, next, level, stay...</td>\n",
              "      <td>[mercedesamg, project, takes, partnership, nex...</td>\n",
              "    </tr>\n",
              "    <tr>\n",
              "      <th>2</th>\n",
              "      <td>@Benioff</td>\n",
              "      <td>1.520000e+18</td>\n",
              "      <td>4/29/2022 7:32</td>\n",
              "      <td>RT @swbjoyce: Grateful to work with the best t...</td>\n",
              "      <td>27.0</td>\n",
              "      <td>0.0</td>\n",
              "      <td>[swbjoyce, salesforce]</td>\n",
              "      <td>[TDX22]</td>\n",
              "      <td>RT : Grateful to work with the best team in th...</td>\n",
              "      <td>[grateful, work, best, team, biz, incredible, ...</td>\n",
              "      <td>[grateful, work, best, team, biz, incredible, ...</td>\n",
              "      <td>[swbjoyce, grateful, work, best, team, biz, in...</td>\n",
              "    </tr>\n",
              "    <tr>\n",
              "      <th>3</th>\n",
              "      <td>@Benioff</td>\n",
              "      <td>1.520000e+18</td>\n",
              "      <td>4/29/2022 7:01</td>\n",
              "      <td>RT @btaylor: It was great to host many of the ...</td>\n",
              "      <td>10.0</td>\n",
              "      <td>0.0</td>\n",
              "      <td>[btaylor]</td>\n",
              "      <td>[]</td>\n",
              "      <td>RT : It was great to host many of the MVPs att...</td>\n",
              "      <td>[great, host, many, mvps, attending, trailblaz...</td>\n",
              "      <td>[great, host, many, mvp, attending, trailblaze...</td>\n",
              "      <td>[btaylor, great, host, many, mvps, attending, ...</td>\n",
              "    </tr>\n",
              "    <tr>\n",
              "      <th>4</th>\n",
              "      <td>@Benioff</td>\n",
              "      <td>1.520000e+18</td>\n",
              "      <td>4/29/2022 6:54</td>\n",
              "      <td>RT @btaylor: It was wonderful to reconnect wit...</td>\n",
              "      <td>9.0</td>\n",
              "      <td>0.0</td>\n",
              "      <td>[btaylor, Salesforce]</td>\n",
              "      <td>[]</td>\n",
              "      <td>RT : It was wonderful to reconnect with vetera...</td>\n",
              "      <td>[wonderful, reconnect, veterans, today, inspir...</td>\n",
              "      <td>[wonderful, reconnect, veteran, today, inspiri...</td>\n",
              "      <td>[btaylor, wonderful, reconnect, veterans, sale...</td>\n",
              "    </tr>\n",
              "  </tbody>\n",
              "</table>\n",
              "</div>\n",
              "      <button class=\"colab-df-convert\" onclick=\"convertToInteractive('df-89a6b046-2004-4ff4-a089-6b90271e989c')\"\n",
              "              title=\"Convert this dataframe to an interactive table.\"\n",
              "              style=\"display:none;\">\n",
              "        \n",
              "  <svg xmlns=\"http://www.w3.org/2000/svg\" height=\"24px\"viewBox=\"0 0 24 24\"\n",
              "       width=\"24px\">\n",
              "    <path d=\"M0 0h24v24H0V0z\" fill=\"none\"/>\n",
              "    <path d=\"M18.56 5.44l.94 2.06.94-2.06 2.06-.94-2.06-.94-.94-2.06-.94 2.06-2.06.94zm-11 1L8.5 8.5l.94-2.06 2.06-.94-2.06-.94L8.5 2.5l-.94 2.06-2.06.94zm10 10l.94 2.06.94-2.06 2.06-.94-2.06-.94-.94-2.06-.94 2.06-2.06.94z\"/><path d=\"M17.41 7.96l-1.37-1.37c-.4-.4-.92-.59-1.43-.59-.52 0-1.04.2-1.43.59L10.3 9.45l-7.72 7.72c-.78.78-.78 2.05 0 2.83L4 21.41c.39.39.9.59 1.41.59.51 0 1.02-.2 1.41-.59l7.78-7.78 2.81-2.81c.8-.78.8-2.07 0-2.86zM5.41 20L4 18.59l7.72-7.72 1.47 1.35L5.41 20z\"/>\n",
              "  </svg>\n",
              "      </button>\n",
              "      \n",
              "  <style>\n",
              "    .colab-df-container {\n",
              "      display:flex;\n",
              "      flex-wrap:wrap;\n",
              "      gap: 12px;\n",
              "    }\n",
              "\n",
              "    .colab-df-convert {\n",
              "      background-color: #E8F0FE;\n",
              "      border: none;\n",
              "      border-radius: 50%;\n",
              "      cursor: pointer;\n",
              "      display: none;\n",
              "      fill: #1967D2;\n",
              "      height: 32px;\n",
              "      padding: 0 0 0 0;\n",
              "      width: 32px;\n",
              "    }\n",
              "\n",
              "    .colab-df-convert:hover {\n",
              "      background-color: #E2EBFA;\n",
              "      box-shadow: 0px 1px 2px rgba(60, 64, 67, 0.3), 0px 1px 3px 1px rgba(60, 64, 67, 0.15);\n",
              "      fill: #174EA6;\n",
              "    }\n",
              "\n",
              "    [theme=dark] .colab-df-convert {\n",
              "      background-color: #3B4455;\n",
              "      fill: #D2E3FC;\n",
              "    }\n",
              "\n",
              "    [theme=dark] .colab-df-convert:hover {\n",
              "      background-color: #434B5C;\n",
              "      box-shadow: 0px 1px 3px 1px rgba(0, 0, 0, 0.15);\n",
              "      filter: drop-shadow(0px 1px 2px rgba(0, 0, 0, 0.3));\n",
              "      fill: #FFFFFF;\n",
              "    }\n",
              "  </style>\n",
              "\n",
              "      <script>\n",
              "        const buttonEl =\n",
              "          document.querySelector('#df-89a6b046-2004-4ff4-a089-6b90271e989c button.colab-df-convert');\n",
              "        buttonEl.style.display =\n",
              "          google.colab.kernel.accessAllowed ? 'block' : 'none';\n",
              "\n",
              "        async function convertToInteractive(key) {\n",
              "          const element = document.querySelector('#df-89a6b046-2004-4ff4-a089-6b90271e989c');\n",
              "          const dataTable =\n",
              "            await google.colab.kernel.invokeFunction('convertToInteractive',\n",
              "                                                     [key], {});\n",
              "          if (!dataTable) return;\n",
              "\n",
              "          const docLinkHtml = 'Like what you see? Visit the ' +\n",
              "            '<a target=\"_blank\" href=https://colab.research.google.com/notebooks/data_table.ipynb>data table notebook</a>'\n",
              "            + ' to learn more about interactive tables.';\n",
              "          element.innerHTML = '';\n",
              "          dataTable['output_type'] = 'display_data';\n",
              "          await google.colab.output.renderOutput(dataTable, element);\n",
              "          const docLink = document.createElement('div');\n",
              "          docLink.innerHTML = docLinkHtml;\n",
              "          element.appendChild(docLink);\n",
              "        }\n",
              "      </script>\n",
              "    </div>\n",
              "  </div>\n",
              "  "
            ]
          },
          "metadata": {},
          "execution_count": 5
        }
      ],
      "source": [
        "df = pd.read_pickle('pre-processed (10).pkl')\n",
        "df.head()"
      ]
    },
    {
      "cell_type": "code",
      "execution_count": 6,
      "metadata": {
        "id": "sXSgCdXWQKTb"
      },
      "outputs": [],
      "source": [
        "#Make string tweet_new column  \n",
        "df['tweet_new_str'] = [','.join(map(str, l)) for l in df['tweet_new']]"
      ]
    },
    {
      "cell_type": "code",
      "execution_count": 7,
      "metadata": {
        "id": "4hWDuBQ_QXxp"
      },
      "outputs": [],
      "source": [
        "df = df.groupby(by='username')"
      ]
    },
    {
      "cell_type": "code",
      "execution_count": 8,
      "metadata": {
        "id": "VlIVjGeTQloc"
      },
      "outputs": [],
      "source": [
        "#Choose ceo you want to work \n",
        "ceo_username = '@MichaelDell'"
      ]
    },
    {
      "cell_type": "code",
      "execution_count": 9,
      "metadata": {
        "id": "XTDspfIaQiX3",
        "colab": {
          "base_uri": "https://localhost:8080/",
          "height": 1000
        },
        "outputId": "589211a5-2a00-4064-c31d-0ce00cd4e95b"
      },
      "outputs": [
        {
          "output_type": "execute_result",
          "data": {
            "text/plain": [
              "           username            id             date  \\\n",
              "16232  @MichaelDell  1.520000e+18  4/29/2022 10:37   \n",
              "16233  @MichaelDell  1.520000e+18  4/28/2022 18:23   \n",
              "16234  @MichaelDell  1.520000e+18  4/28/2022 18:22   \n",
              "16235  @MichaelDell  1.520000e+18  4/22/2022 22:19   \n",
              "16236  @MichaelDell  1.520000e+18  4/22/2022 21:44   \n",
              "...             ...           ...              ...   \n",
              "19415  @MichaelDell  4.500000e+17  3/28/2014 19:22   \n",
              "19416  @MichaelDell  4.480000e+17   3/25/2014 2:58   \n",
              "19417  @MichaelDell  4.480000e+17  3/24/2014 17:24   \n",
              "19418  @MichaelDell  4.480000e+17  3/24/2014 16:28   \n",
              "19419  @MichaelDell  4.480000e+17  3/24/2014 16:21   \n",
              "\n",
              "                                                   tweet  retweets    likes  \\\n",
              "16232    https://t.co/4ghKbejoie https://t.co/aquQvGL6QR       4.0    114.0   \n",
              "16233                          🤠 https://t.co/4ghKbe1NqG       7.0    136.0   \n",
              "16234  Here are the similarities and differences betw...    1163.0  19662.0   \n",
              "16235  Making infrastructure available for our custom...       8.0     53.0   \n",
              "16236  Circular design isn't the only thing we're doi...       5.0     60.0   \n",
              "...                                                  ...       ...      ...   \n",
              "19415  RT @Inc: .@MichaelDell on why cybersecurity is...      43.0      0.0   \n",
              "19416  RT @SiliconANGLE: Dell jumpstarts advanced ana...      11.0      0.0   \n",
              "19417  A big @Dell welcome to the @StatSoft team! We’...      44.0     10.0   \n",
              "19418  RT @JoannMoretti: More on the acquisition of @...       9.0      0.0   \n",
              "19419  RT @StatSoft: It's true: Our long track record...       7.0      0.0   \n",
              "\n",
              "                                      mentions                       tags  \\\n",
              "16232                                       []                         []   \n",
              "16233                                       []                         []   \n",
              "16234                [Dell, Twitter, elonmusk]                         []   \n",
              "16235                               [DellTech]                         []   \n",
              "16236                               [DellTech]                 [EarthDay]   \n",
              "...                                        ...                        ...   \n",
              "19415                                    [Inc]                         []   \n",
              "19416                           [SiliconANGLE]                         []   \n",
              "19417                         [Dell, StatSoft]                         []   \n",
              "19418  [JoannMoretti, StatSoft, matthewwolken]                         []   \n",
              "19419                               [StatSoft]  [STAT, AdvancedAnalytics]   \n",
              "\n",
              "                                             tweet_clean  \\\n",
              "16232                                                      \n",
              "16233                                                  🤠   \n",
              "16234  Here are the similarities and differences betw...   \n",
              "16235  Making infrastructure available for our custom...   \n",
              "16236  Circular design isn't the only thing we're doi...   \n",
              "...                                                  ...   \n",
              "19415  RT : .@MichaelDell on why cybersecurity is the...   \n",
              "19416  RT : Dell jumpstarts advanced analytics strate...   \n",
              "19417  A big welcome to the team! We’re very excited ...   \n",
              "19418  RT : More on the acquisition of fr Congrats Ma...   \n",
              "19419  RT : It's true: Our long track record of growt...   \n",
              "\n",
              "                                            tweet_tokens  \\\n",
              "16232                                                 []   \n",
              "16233                                                 []   \n",
              "16234  [similarities, differences, take, private, tak...   \n",
              "16235  [making, infrastructure, available, customers,...   \n",
              "16236  [circular, design, thing, drive, positive, imp...   \n",
              "...                                                  ...   \n",
              "19415  [michaeldell, cybersecurity, 1, u, business, r...   \n",
              "19416  [dell, jumpstarts, advanced, analytics, strate...   \n",
              "19417     [big, welcome, team, excited, welcome, family]   \n",
              "19418  [acquisition, fr, congrats, matt, information,...   \n",
              "19419  [true, long, track, record, growth, success, c...   \n",
              "\n",
              "                                        tweet_tokens_lem  \\\n",
              "16232                                                 []   \n",
              "16233                                                 []   \n",
              "16234  [similarity, difference, take, private, take, ...   \n",
              "16235  [making, infrastructure, available, customer, ...   \n",
              "16236  [circular, design, thing, drive, positive, imp...   \n",
              "...                                                  ...   \n",
              "19415  [michaeldell, cybersecurity, 1, u, business, r...   \n",
              "19416  [dell, jumpstart, advanced, analytics, strateg...   \n",
              "19417     [big, welcome, team, excited, welcome, family]   \n",
              "19418  [acquisition, fr, congrats, matt, information,...   \n",
              "19419  [true, long, track, record, growth, success, c...   \n",
              "\n",
              "                                               tweet_new  \\\n",
              "16232                                                 []   \n",
              "16233                                                 []   \n",
              "16234  [similarities, differences, elonmusk, take, pr...   \n",
              "16235  [making, infrastructure, available, customers,...   \n",
              "16236  [circular, design, thing, delltech, drive, pos...   \n",
              "...                                                  ...   \n",
              "19415  [inc, michaeldell, cybersecurity, 1, u, busine...   \n",
              "19416  [siliconangle, dell, jumpstarts, advanced, ana...   \n",
              "19417  [big, dell, welcome, statsoft, team, excited, ...   \n",
              "19418  [joannmoretti, acquisition, statsoft, fr, matt...   \n",
              "19419  [statsoft, true, long, track, record, growth, ...   \n",
              "\n",
              "                                           tweet_new_str  \n",
              "16232                                                     \n",
              "16233                                                     \n",
              "16234  similarities,differences,elonmusk,take,private...  \n",
              "16235  making,infrastructure,available,customers,solu...  \n",
              "16236  circular,design,thing,delltech,drive,positive,...  \n",
              "...                                                  ...  \n",
              "19415    inc,michaeldell,cybersecurity,1,u,business,risk  \n",
              "19416  siliconangle,dell,jumpstarts,advanced,analytic...  \n",
              "19417  big,dell,welcome,statsoft,team,excited,welcome...  \n",
              "19418  joannmoretti,acquisition,statsoft,fr,matthewwo...  \n",
              "19419  statsoft,true,long,track,record,growth,success...  \n",
              "\n",
              "[3188 rows x 13 columns]"
            ],
            "text/html": [
              "\n",
              "  <div id=\"df-a49e2a0c-88bf-43d3-a9f6-8cb0ed404b1e\">\n",
              "    <div class=\"colab-df-container\">\n",
              "      <div>\n",
              "<style scoped>\n",
              "    .dataframe tbody tr th:only-of-type {\n",
              "        vertical-align: middle;\n",
              "    }\n",
              "\n",
              "    .dataframe tbody tr th {\n",
              "        vertical-align: top;\n",
              "    }\n",
              "\n",
              "    .dataframe thead th {\n",
              "        text-align: right;\n",
              "    }\n",
              "</style>\n",
              "<table border=\"1\" class=\"dataframe\">\n",
              "  <thead>\n",
              "    <tr style=\"text-align: right;\">\n",
              "      <th></th>\n",
              "      <th>username</th>\n",
              "      <th>id</th>\n",
              "      <th>date</th>\n",
              "      <th>tweet</th>\n",
              "      <th>retweets</th>\n",
              "      <th>likes</th>\n",
              "      <th>mentions</th>\n",
              "      <th>tags</th>\n",
              "      <th>tweet_clean</th>\n",
              "      <th>tweet_tokens</th>\n",
              "      <th>tweet_tokens_lem</th>\n",
              "      <th>tweet_new</th>\n",
              "      <th>tweet_new_str</th>\n",
              "    </tr>\n",
              "  </thead>\n",
              "  <tbody>\n",
              "    <tr>\n",
              "      <th>16232</th>\n",
              "      <td>@MichaelDell</td>\n",
              "      <td>1.520000e+18</td>\n",
              "      <td>4/29/2022 10:37</td>\n",
              "      <td>https://t.co/4ghKbejoie https://t.co/aquQvGL6QR</td>\n",
              "      <td>4.0</td>\n",
              "      <td>114.0</td>\n",
              "      <td>[]</td>\n",
              "      <td>[]</td>\n",
              "      <td></td>\n",
              "      <td>[]</td>\n",
              "      <td>[]</td>\n",
              "      <td>[]</td>\n",
              "      <td></td>\n",
              "    </tr>\n",
              "    <tr>\n",
              "      <th>16233</th>\n",
              "      <td>@MichaelDell</td>\n",
              "      <td>1.520000e+18</td>\n",
              "      <td>4/28/2022 18:23</td>\n",
              "      <td>🤠 https://t.co/4ghKbe1NqG</td>\n",
              "      <td>7.0</td>\n",
              "      <td>136.0</td>\n",
              "      <td>[]</td>\n",
              "      <td>[]</td>\n",
              "      <td>🤠</td>\n",
              "      <td>[]</td>\n",
              "      <td>[]</td>\n",
              "      <td>[]</td>\n",
              "      <td></td>\n",
              "    </tr>\n",
              "    <tr>\n",
              "      <th>16234</th>\n",
              "      <td>@MichaelDell</td>\n",
              "      <td>1.520000e+18</td>\n",
              "      <td>4/28/2022 18:22</td>\n",
              "      <td>Here are the similarities and differences betw...</td>\n",
              "      <td>1163.0</td>\n",
              "      <td>19662.0</td>\n",
              "      <td>[Dell, Twitter, elonmusk]</td>\n",
              "      <td>[]</td>\n",
              "      <td>Here are the similarities and differences betw...</td>\n",
              "      <td>[similarities, differences, take, private, tak...</td>\n",
              "      <td>[similarity, difference, take, private, take, ...</td>\n",
              "      <td>[similarities, differences, elonmusk, take, pr...</td>\n",
              "      <td>similarities,differences,elonmusk,take,private...</td>\n",
              "    </tr>\n",
              "    <tr>\n",
              "      <th>16235</th>\n",
              "      <td>@MichaelDell</td>\n",
              "      <td>1.520000e+18</td>\n",
              "      <td>4/22/2022 22:19</td>\n",
              "      <td>Making infrastructure available for our custom...</td>\n",
              "      <td>8.0</td>\n",
              "      <td>53.0</td>\n",
              "      <td>[DellTech]</td>\n",
              "      <td>[]</td>\n",
              "      <td>Making infrastructure available for our custom...</td>\n",
              "      <td>[making, infrastructure, available, customers,...</td>\n",
              "      <td>[making, infrastructure, available, customer, ...</td>\n",
              "      <td>[making, infrastructure, available, customers,...</td>\n",
              "      <td>making,infrastructure,available,customers,solu...</td>\n",
              "    </tr>\n",
              "    <tr>\n",
              "      <th>16236</th>\n",
              "      <td>@MichaelDell</td>\n",
              "      <td>1.520000e+18</td>\n",
              "      <td>4/22/2022 21:44</td>\n",
              "      <td>Circular design isn't the only thing we're doi...</td>\n",
              "      <td>5.0</td>\n",
              "      <td>60.0</td>\n",
              "      <td>[DellTech]</td>\n",
              "      <td>[EarthDay]</td>\n",
              "      <td>Circular design isn't the only thing we're doi...</td>\n",
              "      <td>[circular, design, thing, drive, positive, imp...</td>\n",
              "      <td>[circular, design, thing, drive, positive, imp...</td>\n",
              "      <td>[circular, design, thing, delltech, drive, pos...</td>\n",
              "      <td>circular,design,thing,delltech,drive,positive,...</td>\n",
              "    </tr>\n",
              "    <tr>\n",
              "      <th>...</th>\n",
              "      <td>...</td>\n",
              "      <td>...</td>\n",
              "      <td>...</td>\n",
              "      <td>...</td>\n",
              "      <td>...</td>\n",
              "      <td>...</td>\n",
              "      <td>...</td>\n",
              "      <td>...</td>\n",
              "      <td>...</td>\n",
              "      <td>...</td>\n",
              "      <td>...</td>\n",
              "      <td>...</td>\n",
              "      <td>...</td>\n",
              "    </tr>\n",
              "    <tr>\n",
              "      <th>19415</th>\n",
              "      <td>@MichaelDell</td>\n",
              "      <td>4.500000e+17</td>\n",
              "      <td>3/28/2014 19:22</td>\n",
              "      <td>RT @Inc: .@MichaelDell on why cybersecurity is...</td>\n",
              "      <td>43.0</td>\n",
              "      <td>0.0</td>\n",
              "      <td>[Inc]</td>\n",
              "      <td>[]</td>\n",
              "      <td>RT : .@MichaelDell on why cybersecurity is the...</td>\n",
              "      <td>[michaeldell, cybersecurity, 1, u, business, r...</td>\n",
              "      <td>[michaeldell, cybersecurity, 1, u, business, r...</td>\n",
              "      <td>[inc, michaeldell, cybersecurity, 1, u, busine...</td>\n",
              "      <td>inc,michaeldell,cybersecurity,1,u,business,risk</td>\n",
              "    </tr>\n",
              "    <tr>\n",
              "      <th>19416</th>\n",
              "      <td>@MichaelDell</td>\n",
              "      <td>4.480000e+17</td>\n",
              "      <td>3/25/2014 2:58</td>\n",
              "      <td>RT @SiliconANGLE: Dell jumpstarts advanced ana...</td>\n",
              "      <td>11.0</td>\n",
              "      <td>0.0</td>\n",
              "      <td>[SiliconANGLE]</td>\n",
              "      <td>[]</td>\n",
              "      <td>RT : Dell jumpstarts advanced analytics strate...</td>\n",
              "      <td>[dell, jumpstarts, advanced, analytics, strate...</td>\n",
              "      <td>[dell, jumpstart, advanced, analytics, strateg...</td>\n",
              "      <td>[siliconangle, dell, jumpstarts, advanced, ana...</td>\n",
              "      <td>siliconangle,dell,jumpstarts,advanced,analytic...</td>\n",
              "    </tr>\n",
              "    <tr>\n",
              "      <th>19417</th>\n",
              "      <td>@MichaelDell</td>\n",
              "      <td>4.480000e+17</td>\n",
              "      <td>3/24/2014 17:24</td>\n",
              "      <td>A big @Dell welcome to the @StatSoft team! We’...</td>\n",
              "      <td>44.0</td>\n",
              "      <td>10.0</td>\n",
              "      <td>[Dell, StatSoft]</td>\n",
              "      <td>[]</td>\n",
              "      <td>A big welcome to the team! We’re very excited ...</td>\n",
              "      <td>[big, welcome, team, excited, welcome, family]</td>\n",
              "      <td>[big, welcome, team, excited, welcome, family]</td>\n",
              "      <td>[big, dell, welcome, statsoft, team, excited, ...</td>\n",
              "      <td>big,dell,welcome,statsoft,team,excited,welcome...</td>\n",
              "    </tr>\n",
              "    <tr>\n",
              "      <th>19418</th>\n",
              "      <td>@MichaelDell</td>\n",
              "      <td>4.480000e+17</td>\n",
              "      <td>3/24/2014 16:28</td>\n",
              "      <td>RT @JoannMoretti: More on the acquisition of @...</td>\n",
              "      <td>9.0</td>\n",
              "      <td>0.0</td>\n",
              "      <td>[JoannMoretti, StatSoft, matthewwolken]</td>\n",
              "      <td>[]</td>\n",
              "      <td>RT : More on the acquisition of fr Congrats Ma...</td>\n",
              "      <td>[acquisition, fr, congrats, matt, information,...</td>\n",
              "      <td>[acquisition, fr, congrats, matt, information,...</td>\n",
              "      <td>[joannmoretti, acquisition, statsoft, fr, matt...</td>\n",
              "      <td>joannmoretti,acquisition,statsoft,fr,matthewwo...</td>\n",
              "    </tr>\n",
              "    <tr>\n",
              "      <th>19419</th>\n",
              "      <td>@MichaelDell</td>\n",
              "      <td>4.480000e+17</td>\n",
              "      <td>3/24/2014 16:21</td>\n",
              "      <td>RT @StatSoft: It's true: Our long track record...</td>\n",
              "      <td>7.0</td>\n",
              "      <td>0.0</td>\n",
              "      <td>[StatSoft]</td>\n",
              "      <td>[STAT, AdvancedAnalytics]</td>\n",
              "      <td>RT : It's true: Our long track record of growt...</td>\n",
              "      <td>[true, long, track, record, growth, success, c...</td>\n",
              "      <td>[true, long, track, record, growth, success, c...</td>\n",
              "      <td>[statsoft, true, long, track, record, growth, ...</td>\n",
              "      <td>statsoft,true,long,track,record,growth,success...</td>\n",
              "    </tr>\n",
              "  </tbody>\n",
              "</table>\n",
              "<p>3188 rows × 13 columns</p>\n",
              "</div>\n",
              "      <button class=\"colab-df-convert\" onclick=\"convertToInteractive('df-a49e2a0c-88bf-43d3-a9f6-8cb0ed404b1e')\"\n",
              "              title=\"Convert this dataframe to an interactive table.\"\n",
              "              style=\"display:none;\">\n",
              "        \n",
              "  <svg xmlns=\"http://www.w3.org/2000/svg\" height=\"24px\"viewBox=\"0 0 24 24\"\n",
              "       width=\"24px\">\n",
              "    <path d=\"M0 0h24v24H0V0z\" fill=\"none\"/>\n",
              "    <path d=\"M18.56 5.44l.94 2.06.94-2.06 2.06-.94-2.06-.94-.94-2.06-.94 2.06-2.06.94zm-11 1L8.5 8.5l.94-2.06 2.06-.94-2.06-.94L8.5 2.5l-.94 2.06-2.06.94zm10 10l.94 2.06.94-2.06 2.06-.94-2.06-.94-.94-2.06-.94 2.06-2.06.94z\"/><path d=\"M17.41 7.96l-1.37-1.37c-.4-.4-.92-.59-1.43-.59-.52 0-1.04.2-1.43.59L10.3 9.45l-7.72 7.72c-.78.78-.78 2.05 0 2.83L4 21.41c.39.39.9.59 1.41.59.51 0 1.02-.2 1.41-.59l7.78-7.78 2.81-2.81c.8-.78.8-2.07 0-2.86zM5.41 20L4 18.59l7.72-7.72 1.47 1.35L5.41 20z\"/>\n",
              "  </svg>\n",
              "      </button>\n",
              "      \n",
              "  <style>\n",
              "    .colab-df-container {\n",
              "      display:flex;\n",
              "      flex-wrap:wrap;\n",
              "      gap: 12px;\n",
              "    }\n",
              "\n",
              "    .colab-df-convert {\n",
              "      background-color: #E8F0FE;\n",
              "      border: none;\n",
              "      border-radius: 50%;\n",
              "      cursor: pointer;\n",
              "      display: none;\n",
              "      fill: #1967D2;\n",
              "      height: 32px;\n",
              "      padding: 0 0 0 0;\n",
              "      width: 32px;\n",
              "    }\n",
              "\n",
              "    .colab-df-convert:hover {\n",
              "      background-color: #E2EBFA;\n",
              "      box-shadow: 0px 1px 2px rgba(60, 64, 67, 0.3), 0px 1px 3px 1px rgba(60, 64, 67, 0.15);\n",
              "      fill: #174EA6;\n",
              "    }\n",
              "\n",
              "    [theme=dark] .colab-df-convert {\n",
              "      background-color: #3B4455;\n",
              "      fill: #D2E3FC;\n",
              "    }\n",
              "\n",
              "    [theme=dark] .colab-df-convert:hover {\n",
              "      background-color: #434B5C;\n",
              "      box-shadow: 0px 1px 3px 1px rgba(0, 0, 0, 0.15);\n",
              "      filter: drop-shadow(0px 1px 2px rgba(0, 0, 0, 0.3));\n",
              "      fill: #FFFFFF;\n",
              "    }\n",
              "  </style>\n",
              "\n",
              "      <script>\n",
              "        const buttonEl =\n",
              "          document.querySelector('#df-a49e2a0c-88bf-43d3-a9f6-8cb0ed404b1e button.colab-df-convert');\n",
              "        buttonEl.style.display =\n",
              "          google.colab.kernel.accessAllowed ? 'block' : 'none';\n",
              "\n",
              "        async function convertToInteractive(key) {\n",
              "          const element = document.querySelector('#df-a49e2a0c-88bf-43d3-a9f6-8cb0ed404b1e');\n",
              "          const dataTable =\n",
              "            await google.colab.kernel.invokeFunction('convertToInteractive',\n",
              "                                                     [key], {});\n",
              "          if (!dataTable) return;\n",
              "\n",
              "          const docLinkHtml = 'Like what you see? Visit the ' +\n",
              "            '<a target=\"_blank\" href=https://colab.research.google.com/notebooks/data_table.ipynb>data table notebook</a>'\n",
              "            + ' to learn more about interactive tables.';\n",
              "          element.innerHTML = '';\n",
              "          dataTable['output_type'] = 'display_data';\n",
              "          await google.colab.output.renderOutput(dataTable, element);\n",
              "          const docLink = document.createElement('div');\n",
              "          docLink.innerHTML = docLinkHtml;\n",
              "          element.appendChild(docLink);\n",
              "        }\n",
              "      </script>\n",
              "    </div>\n",
              "  </div>\n",
              "  "
            ]
          },
          "metadata": {},
          "execution_count": 9
        }
      ],
      "source": [
        "df.get_group(ceo_username)"
      ]
    },
    {
      "cell_type": "markdown",
      "metadata": {
        "id": "UfOsKG80bBFt"
      },
      "source": [
        "## **Latent Dirichlet Allocation (LDA)**"
      ]
    },
    {
      "cell_type": "code",
      "execution_count": 10,
      "metadata": {
        "id": "g6JNnw3LbC8A",
        "colab": {
          "base_uri": "https://localhost:8080/"
        },
        "outputId": "2a8442f5-8418-4164-e894-5068d264c808"
      },
      "outputs": [
        {
          "output_type": "stream",
          "name": "stdout",
          "text": [
            "Number of unique tokens: 3102\n",
            "Number of documents: 3188\n"
          ]
        }
      ],
      "source": [
        "reviews=[r.split() for r in df.get_group(ceo_username)['tweet_new_str']]\n",
        "\n",
        "dictionary = corpora.Dictionary(reviews)\n",
        "\n",
        "# Create Bag-of-words representation of the documents\n",
        "bow_corpus = [dictionary.doc2bow(rev) for rev in reviews]\n",
        "\n",
        "print('Number of unique tokens: %d' % len(dictionary))\n",
        "print('Number of documents: %d' % len(bow_corpus))"
      ]
    },
    {
      "cell_type": "markdown",
      "metadata": {
        "id": "yvXgvuQtdJpA"
      },
      "source": [
        "### **U_mass coherence**"
      ]
    },
    {
      "cell_type": "code",
      "execution_count": 11,
      "metadata": {
        "id": "UL0Ln2DzbTpc",
        "colab": {
          "base_uri": "https://localhost:8080/"
        },
        "outputId": "8249650e-a982-43e8-cea0-10f01c032740"
      },
      "outputs": [
        {
          "output_type": "stream",
          "name": "stderr",
          "text": [
            "100%|██████████| 5/5 [02:11<00:00, 26.34s/it]"
          ]
        },
        {
          "output_type": "stream",
          "name": "stdout",
          "text": [
            "\n",
            "Coherence Score:  -19.682641717533162\n"
          ]
        },
        {
          "output_type": "stream",
          "name": "stderr",
          "text": [
            "\n"
          ]
        }
      ],
      "source": [
        "from gensim.models import CoherenceModel\n",
        "# Compute Coherence Score\n",
        "from tqdm import tqdm\n",
        "coherenceList_cv=[]\n",
        "num_topics_list = [3,5, 8,10,15]\n",
        "for num_topics in tqdm(num_topics_list):\n",
        "    lda_model = gensim.models.LdaMulticore(corpus=bow_corpus,\n",
        "                                       alpha=0.5, \n",
        "                                       id2word=dictionary,\n",
        "                                       num_topics=num_topics, \n",
        "                                       random_state=100,\n",
        "                                       chunksize=10000,\n",
        "                                       passes=30,\n",
        "                                       workers=4\n",
        "                                       #per_word_topics=True\n",
        "                                      )\n",
        "    texts = [[dictionary[word_id] for word_id, freq in doc] for doc in bow_corpus]\n",
        "    coherence_model_lda = CoherenceModel(model=lda_model, texts=texts, coherence='u_mass')\n",
        "    coherence_lda = coherence_model_lda.get_coherence()\n",
        "    coherenceList_cv.append(coherence_lda)\n",
        "print('\\nCoherence Score: ', coherence_lda)"
      ]
    },
    {
      "cell_type": "code",
      "execution_count": null,
      "metadata": {
        "id": "aQdL32CwcDRK",
        "colab": {
          "base_uri": "https://localhost:8080/",
          "height": 292
        },
        "outputId": "26057411-afe3-4ad4-9920-59b54ba10adf"
      },
      "outputs": [
        {
          "output_type": "display_data",
          "data": {
            "text/plain": [
              "<Figure size 432x288 with 1 Axes>"
            ],
            "image/png": "[encoded data removed]"
          },
          "metadata": {
            "needs_background": "light"
          }
        }
      ],
      "source": [
        "plotData = pd.DataFrame({'Number of topics':num_topics_list,\n",
        "                         'Coherence score_cv':coherenceList_cv})\n",
        "# f,ax = plt.subplots(figsize=(6,4))\n",
        "# sns.set_style(\"darkgrid\")\n",
        "ax = sns.pointplot(x='Number of topics',y= 'Coherence score_cv',data=plotData)\n",
        "ax.set_xlabel('Number of topics', fontsize=10)\n",
        "ax.set_ylabel('U_Mass score', fontsize=10)\n",
        "ax.tick_params(axis='both', which='major', labelsize=9)\n",
        "plt.title('Topic coherence', fontsize=11)\n",
        "plt.savefig('coherence_umass.png', dpi=300);"
      ]
    },
    {
      "cell_type": "markdown",
      "metadata": {
        "id": "uN34NYBue4-a"
      },
      "source": [
        "### **C_v coherence**"
      ]
    },
    {
      "cell_type": "code",
      "execution_count": null,
      "metadata": {
        "id": "aaMpOGhre672",
        "colab": {
          "base_uri": "https://localhost:8080/"
        },
        "outputId": "ecbd856d-7a08-45ce-c513-751a54fb5a96"
      },
      "outputs": [
        {
          "output_type": "stream",
          "name": "stderr",
          "text": [
            "100%|██████████| 5/5 [02:04<00:00, 24.98s/it]"
          ]
        },
        {
          "output_type": "stream",
          "name": "stdout",
          "text": [
            "\n",
            "Coherence Score:  0.8255203337544508\n"
          ]
        },
        {
          "output_type": "stream",
          "name": "stderr",
          "text": [
            "\n"
          ]
        }
      ],
      "source": [
        "from gensim.models import CoherenceModel\n",
        "# Compute Coherence Score\n",
        "from tqdm import tqdm\n",
        "coherenceList_cv=[]\n",
        "num_topics_list = [3,5, 8,10,15]\n",
        "for num_topics in tqdm(num_topics_list):\n",
        "    lda_model = gensim.models.LdaMulticore(corpus=bow_corpus,\n",
        "                                       alpha=0.5, \n",
        "                                       id2word=dictionary,\n",
        "                                       num_topics=num_topics, \n",
        "                                       random_state=100,\n",
        "                                       chunksize=10000,\n",
        "                                       passes=30,\n",
        "                                       workers=4\n",
        "                                       #per_word_topics=True\n",
        "                                      )\n",
        "    texts = [[dictionary[word_id] for word_id, freq in doc] for doc in bow_corpus]\n",
        "    coherence_model_lda = CoherenceModel(model=lda_model, texts=texts, coherence='c_v')\n",
        "    coherence_lda = coherence_model_lda.get_coherence()\n",
        "    coherenceList_cv.append(coherence_lda)\n",
        "print('\\nCoherence Score: ', coherence_lda)"
      ]
    },
    {
      "cell_type": "code",
      "execution_count": null,
      "metadata": {
        "id": "Bg9NSFN0fCUs",
        "colab": {
          "base_uri": "https://localhost:8080/",
          "height": 292
        },
        "outputId": "f0f901be-ca3a-4226-e665-f3d49f56f426"
      },
      "outputs": [
        {
          "output_type": "display_data",
          "data": {
            "text/plain": [
              "<Figure size 432x288 with 1 Axes>"
            ],
            "image/png": "[encoded data removed]"
          },
          "metadata": {
            "needs_background": "light"
          }
        }
      ],
      "source": [
        "plotData = pd.DataFrame({'Number of topics':num_topics_list,\n",
        "                         'Coherence score_cv':coherenceList_cv})\n",
        "# f,ax = plt.subplots(figsize=(6,4))\n",
        "# sns.set_style(\"darkgrid\")\n",
        "ax = sns.pointplot(x='Number of topics',y= 'Coherence score_cv',data=plotData)\n",
        "ax.set_xlabel('Number of topics', fontsize=10)\n",
        "ax.set_ylabel('C_v score', fontsize=10)\n",
        "ax.tick_params(axis='both', which='major', labelsize=9)\n",
        "plt.title('Topic coherence', fontsize=11)\n",
        "plt.savefig('coherence_cv.png', dpi=300);"
      ]
    },
    {
      "cell_type": "markdown",
      "metadata": {
        "id": "rksfMttqqz6H"
      },
      "source": [
        "## **LDA with Bigrams**"
      ]
    },
    {
      "cell_type": "code",
      "execution_count": 12,
      "metadata": {
        "id": "vXyyAGhXrC2g"
      },
      "outputs": [],
      "source": [
        "review_1 = [r.split() for r in df.get_group(ceo_username)['tweet_new_str']]\n"
      ]
    },
    {
      "cell_type": "code",
      "execution_count": 13,
      "metadata": {
        "id": "Xf3Mcj6ZrNyy",
        "colab": {
          "base_uri": "https://localhost:8080/"
        },
        "outputId": "b18baeeb-dc17-4a55-c399-42a0a69662e0"
      },
      "outputs": [
        {
          "output_type": "stream",
          "name": "stdout",
          "text": [
            "['big,thanks,14,000,customers,deployed,nearly,200k,nodes,since,vxrail,introduced,6,years,ago']\n"
          ]
        }
      ],
      "source": [
        "# Build the bigram and trigram models\n",
        "bigram = gensim.models.Phrases(reviews, min_count=1, threshold=2) # higher threshold fewer phrases.\n",
        "trigram = gensim.models.Phrases(bigram[review_1], threshold=2)  \n",
        "\n",
        "# Faster way to get a sentence clubbed as a trigram/bigram\n",
        "bigram_mod = gensim.models.phrases.Phraser(bigram)\n",
        "trigram_mod = gensim.models.phrases.Phraser(trigram)\n",
        "\n",
        "# See trigram example\n",
        "print(trigram_mod[bigram_mod[review_1[30]]])"
      ]
    },
    {
      "cell_type": "code",
      "execution_count": 14,
      "metadata": {
        "id": "IUfxGoXKrief"
      },
      "outputs": [],
      "source": [
        "# Define functions for stopwords, bigrams, trigrams and lemmatization\n",
        "def remove_stopwords(texts):\n",
        "    return [[word for word in simple_preprocess(str(doc)) if word not in stop_words] for doc in texts]\n",
        "\n",
        "def make_bigrams(texts):\n",
        "    return [bigram_mod[doc] for doc in texts]\n",
        "\n",
        "def make_trigrams(texts):\n",
        "    return [trigram_mod[bigram_mod[doc]] for doc in texts]\n",
        "\n",
        "def lemmatization(texts, allowed_postags=['NOUN', 'ADJ', 'VERB', 'ADV']):\n",
        "    \"\"\"https://spacy.io/api/annotation\"\"\"\n",
        "    texts_out = []\n",
        "    for sent in texts:\n",
        "        doc = nlp(\" \".join(sent)) \n",
        "        texts_out.append([token.lemma_ for token in doc if token.pos_ in allowed_postags])\n",
        "    return texts_out"
      ]
    },
    {
      "cell_type": "code",
      "source": [
        "!python3 -m spacy download en_core_web_sm"
      ],
      "metadata": {
        "colab": {
          "base_uri": "https://localhost:8080/"
        },
        "id": "7-8wwEEUrwYF",
        "outputId": "f720590e-2e62-40bc-e36d-adb763f7ad2f"
      },
      "execution_count": 15,
      "outputs": [
        {
          "output_type": "stream",
          "name": "stdout",
          "text": [
            "Looking in indexes: https://pypi.org/simple, https://us-python.pkg.dev/colab-wheels/public/simple/\n",
            "Collecting en-core-web-sm==3.4.0\n",
            "  Downloading https://github.com/explosion/spacy-models/releases/download/en_core_web_sm-3.4.0/en_core_web_sm-3.4.0-py3-none-any.whl (12.8 MB)\n",
            "\u001b[K     |████████████████████████████████| 12.8 MB 5.3 MB/s \n",
            "\u001b[?25hRequirement already satisfied: spacy<3.5.0,>=3.4.0 in /usr/local/lib/python3.7/dist-packages (from en-core-web-sm==3.4.0) (3.4.1)\n",
            "Requirement already satisfied: packaging>=20.0 in /usr/local/lib/python3.7/dist-packages (from spacy<3.5.0,>=3.4.0->en-core-web-sm==3.4.0) (21.3)\n",
            "Requirement already satisfied: spacy-legacy<3.1.0,>=3.0.9 in /usr/local/lib/python3.7/dist-packages (from spacy<3.5.0,>=3.4.0->en-core-web-sm==3.4.0) (3.0.10)\n",
            "Requirement already satisfied: pathy>=0.3.5 in /usr/local/lib/python3.7/dist-packages (from spacy<3.5.0,>=3.4.0->en-core-web-sm==3.4.0) (0.6.2)\n",
            "Requirement already satisfied: tqdm<5.0.0,>=4.38.0 in /usr/local/lib/python3.7/dist-packages (from spacy<3.5.0,>=3.4.0->en-core-web-sm==3.4.0) (4.64.0)\n",
            "Requirement already satisfied: setuptools in /usr/local/lib/python3.7/dist-packages (from spacy<3.5.0,>=3.4.0->en-core-web-sm==3.4.0) (57.4.0)\n",
            "Requirement already satisfied: langcodes<4.0.0,>=3.2.0 in /usr/local/lib/python3.7/dist-packages (from spacy<3.5.0,>=3.4.0->en-core-web-sm==3.4.0) (3.3.0)\n",
            "Requirement already satisfied: wasabi<1.1.0,>=0.9.1 in /usr/local/lib/python3.7/dist-packages (from spacy<3.5.0,>=3.4.0->en-core-web-sm==3.4.0) (0.10.1)\n",
            "Requirement already satisfied: spacy-loggers<2.0.0,>=1.0.0 in /usr/local/lib/python3.7/dist-packages (from spacy<3.5.0,>=3.4.0->en-core-web-sm==3.4.0) (1.0.3)\n",
            "Requirement already satisfied: typer<0.5.0,>=0.3.0 in /usr/local/lib/python3.7/dist-packages (from spacy<3.5.0,>=3.4.0->en-core-web-sm==3.4.0) (0.4.2)\n",
            "Requirement already satisfied: thinc<8.2.0,>=8.1.0 in /usr/local/lib/python3.7/dist-packages (from spacy<3.5.0,>=3.4.0->en-core-web-sm==3.4.0) (8.1.0)\n",
            "Requirement already satisfied: preshed<3.1.0,>=3.0.2 in /usr/local/lib/python3.7/dist-packages (from spacy<3.5.0,>=3.4.0->en-core-web-sm==3.4.0) (3.0.7)\n",
            "Requirement already satisfied: typing-extensions<4.2.0,>=3.7.4 in /usr/local/lib/python3.7/dist-packages (from spacy<3.5.0,>=3.4.0->en-core-web-sm==3.4.0) (4.1.1)\n",
            "Requirement already satisfied: jinja2 in /usr/local/lib/python3.7/dist-packages (from spacy<3.5.0,>=3.4.0->en-core-web-sm==3.4.0) (2.11.3)\n",
            "Requirement already satisfied: pydantic!=1.8,!=1.8.1,<1.10.0,>=1.7.4 in /usr/local/lib/python3.7/dist-packages (from spacy<3.5.0,>=3.4.0->en-core-web-sm==3.4.0) (1.9.2)\n",
            "Requirement already satisfied: numpy>=1.15.0 in /usr/local/lib/python3.7/dist-packages (from spacy<3.5.0,>=3.4.0->en-core-web-sm==3.4.0) (1.21.6)\n",
            "Requirement already satisfied: cymem<2.1.0,>=2.0.2 in /usr/local/lib/python3.7/dist-packages (from spacy<3.5.0,>=3.4.0->en-core-web-sm==3.4.0) (2.0.6)\n",
            "Requirement already satisfied: srsly<3.0.0,>=2.4.3 in /usr/local/lib/python3.7/dist-packages (from spacy<3.5.0,>=3.4.0->en-core-web-sm==3.4.0) (2.4.4)\n",
            "Requirement already satisfied: murmurhash<1.1.0,>=0.28.0 in /usr/local/lib/python3.7/dist-packages (from spacy<3.5.0,>=3.4.0->en-core-web-sm==3.4.0) (1.0.8)\n",
            "Requirement already satisfied: requests<3.0.0,>=2.13.0 in /usr/local/lib/python3.7/dist-packages (from spacy<3.5.0,>=3.4.0->en-core-web-sm==3.4.0) (2.23.0)\n",
            "Requirement already satisfied: catalogue<2.1.0,>=2.0.6 in /usr/local/lib/python3.7/dist-packages (from spacy<3.5.0,>=3.4.0->en-core-web-sm==3.4.0) (2.0.8)\n",
            "Requirement already satisfied: zipp>=0.5 in /usr/local/lib/python3.7/dist-packages (from catalogue<2.1.0,>=2.0.6->spacy<3.5.0,>=3.4.0->en-core-web-sm==3.4.0) (3.8.1)\n",
            "Requirement already satisfied: pyparsing!=3.0.5,>=2.0.2 in /usr/local/lib/python3.7/dist-packages (from packaging>=20.0->spacy<3.5.0,>=3.4.0->en-core-web-sm==3.4.0) (3.0.9)\n",
            "Requirement already satisfied: smart-open<6.0.0,>=5.2.1 in /usr/local/lib/python3.7/dist-packages (from pathy>=0.3.5->spacy<3.5.0,>=3.4.0->en-core-web-sm==3.4.0) (5.2.1)\n",
            "Requirement already satisfied: chardet<4,>=3.0.2 in /usr/local/lib/python3.7/dist-packages (from requests<3.0.0,>=2.13.0->spacy<3.5.0,>=3.4.0->en-core-web-sm==3.4.0) (3.0.4)\n",
            "Requirement already satisfied: idna<3,>=2.5 in /usr/local/lib/python3.7/dist-packages (from requests<3.0.0,>=2.13.0->spacy<3.5.0,>=3.4.0->en-core-web-sm==3.4.0) (2.10)\n",
            "Requirement already satisfied: urllib3!=1.25.0,!=1.25.1,<1.26,>=1.21.1 in /usr/local/lib/python3.7/dist-packages (from requests<3.0.0,>=2.13.0->spacy<3.5.0,>=3.4.0->en-core-web-sm==3.4.0) (1.24.3)\n",
            "Requirement already satisfied: certifi>=2017.4.17 in /usr/local/lib/python3.7/dist-packages (from requests<3.0.0,>=2.13.0->spacy<3.5.0,>=3.4.0->en-core-web-sm==3.4.0) (2022.6.15)\n",
            "Requirement already satisfied: blis<0.8.0,>=0.7.8 in /usr/local/lib/python3.7/dist-packages (from thinc<8.2.0,>=8.1.0->spacy<3.5.0,>=3.4.0->en-core-web-sm==3.4.0) (0.7.8)\n",
            "Requirement already satisfied: click<9.0.0,>=7.1.1 in /usr/local/lib/python3.7/dist-packages (from typer<0.5.0,>=0.3.0->spacy<3.5.0,>=3.4.0->en-core-web-sm==3.4.0) (7.1.2)\n",
            "Requirement already satisfied: MarkupSafe>=0.23 in /usr/local/lib/python3.7/dist-packages (from jinja2->spacy<3.5.0,>=3.4.0->en-core-web-sm==3.4.0) (2.0.1)\n",
            "\u001b[38;5;2m✔ Download and installation successful\u001b[0m\n",
            "You can now load the package via spacy.load('en_core_web_sm')\n"
          ]
        }
      ]
    },
    {
      "cell_type": "code",
      "execution_count": 16,
      "metadata": {
        "id": "DSrT_TQhrkZN",
        "colab": {
          "base_uri": "https://localhost:8080/"
        },
        "outputId": "8d150bdb-52d4-4672-b02f-57909dc0827f"
      },
      "outputs": [
        {
          "output_type": "stream",
          "name": "stdout",
          "text": [
            "[[]]\n"
          ]
        }
      ],
      "source": [
        "# Remove Stop Words\n",
        "#data_words_nostops = remove_stopwords(review_1)\n",
        "import en_core_web_sm\n",
        "\n",
        "# Form Bigrams\n",
        "data_words_bigrams = make_bigrams(review_1)\n",
        "\n",
        "# Initialize spacy 'en' model, keeping only tagger component (for efficiency)\n",
        "# python3 -m spacy download en\n",
        "import spacy\n",
        "nlp = spacy.load('en_core_web_sm', disable=['parser', 'ner'])\n",
        "\n",
        "# Do lemmatization keeping only noun, adj, vb, adv\n",
        "data_lemmatized = lemmatization(data_words_bigrams, allowed_postags=['NOUN', 'ADJ', 'VERB', 'ADV'])\n",
        "\n",
        "print(data_lemmatized[:1])"
      ]
    },
    {
      "cell_type": "code",
      "execution_count": 17,
      "metadata": {
        "id": "3mXR9Bg9rvvX"
      },
      "outputs": [],
      "source": [
        "# Create Dictionary\n",
        "id2word = corpora.Dictionary(data_lemmatized)\n",
        "\n",
        "# Create Corpus\n",
        "texts = data_lemmatized\n",
        "\n",
        "# Term Document Frequency\n",
        "corpus = [id2word.doc2bow(text) for text in texts]"
      ]
    },
    {
      "cell_type": "markdown",
      "source": [
        "### **Coherence_cv**"
      ],
      "metadata": {
        "id": "sgKdqMUKv8Ck"
      }
    },
    {
      "cell_type": "code",
      "execution_count": 18,
      "metadata": {
        "id": "JQx0vJUarx9w",
        "colab": {
          "base_uri": "https://localhost:8080/"
        },
        "outputId": "933b3013-4ac3-469c-894b-5b8ba1429be1"
      },
      "outputs": [
        {
          "output_type": "stream",
          "name": "stderr",
          "text": [
            "100%|██████████| 5/5 [00:40<00:00,  8.10s/it]"
          ]
        },
        {
          "output_type": "stream",
          "name": "stdout",
          "text": [
            "\n",
            "Coherence Score:  0.5862981801227636\n"
          ]
        },
        {
          "output_type": "stream",
          "name": "stderr",
          "text": [
            "\n"
          ]
        }
      ],
      "source": [
        "from tqdm import tqdm\n",
        "coherenceList_cv=[]\n",
        "num_topics_list = [3,5,10,15,18]\n",
        "for num_topics in tqdm(num_topics_list):\n",
        "    lda_model = gensim.models.ldamodel.LdaModel(corpus=corpus,\n",
        "                                           id2word=id2word,\n",
        "                                           num_topics=num_topics, \n",
        "                                           random_state=102,\n",
        "                                           update_every=1,\n",
        "                                           chunksize=100,\n",
        "                                           passes=10,\n",
        "                                           alpha='auto',\n",
        "                                           per_word_topics=True)\n",
        "    texts = [[id2word[word_id] for word_id, freq in doc] for doc in corpus]\n",
        "    coherence_model_lda = CoherenceModel(model=lda_model, texts=texts, coherence='c_v')\n",
        "    coherence_lda = coherence_model_lda.get_coherence()\n",
        "    coherenceList_cv.append(coherence_lda)\n",
        "print('\\nCoherence Score: ', coherence_lda)"
      ]
    },
    {
      "cell_type": "code",
      "execution_count": 19,
      "metadata": {
        "id": "GUNeY6sdr10_",
        "colab": {
          "base_uri": "https://localhost:8080/",
          "height": 292
        },
        "outputId": "924d7162-ce14-4c61-be63-12ddf6fd8605"
      },
      "outputs": [
        {
          "output_type": "display_data",
          "data": {
            "text/plain": [
              "<Figure size 432x288 with 1 Axes>"
            ],
            "image/png": "[encoded data removed]"
          },
          "metadata": {
            "needs_background": "light"
          }
        }
      ],
      "source": [
        "plotData = pd.DataFrame({'Number of topics':num_topics_list,\n",
        "                         'Coherence score_cv':coherenceList_cv})\n",
        "# f,ax = plt.subplots(figsize=(6,4))\n",
        "#sns.set_style(\"darkgrid\")\n",
        "ax = sns.pointplot(x='Number of topics',y= 'Coherence score_cv',data=plotData)\n",
        "ax.set_xlabel('Number of topics', fontsize=10)\n",
        "ax.set_ylabel('C_v score', fontsize=10)\n",
        "ax.tick_params(axis='both', which='major', labelsize=9)\n",
        "plt.title('Topic coherence', fontsize=11)\n",
        "plt.savefig('coherence_bigram.png', dpi=300);"
      ]
    },
    {
      "cell_type": "markdown",
      "source": [
        "### **U_mass**"
      ],
      "metadata": {
        "id": "Q8_IPyL8wE3G"
      }
    },
    {
      "cell_type": "code",
      "execution_count": 20,
      "metadata": {
        "id": "E3idNa1jr4N3",
        "colab": {
          "base_uri": "https://localhost:8080/"
        },
        "outputId": "fc395bc9-16e1-4b15-aae8-9e463aba2ce2"
      },
      "outputs": [
        {
          "output_type": "stream",
          "name": "stderr",
          "text": [
            "100%|██████████| 5/5 [00:32<00:00,  6.60s/it]"
          ]
        },
        {
          "output_type": "stream",
          "name": "stdout",
          "text": [
            "\n",
            "Coherence Score:  -17.416102457775256\n"
          ]
        },
        {
          "output_type": "stream",
          "name": "stderr",
          "text": [
            "\n"
          ]
        }
      ],
      "source": [
        "from tqdm import tqdm\n",
        "coherenceList_cv=[]\n",
        "num_topics_list = [3,5,10,15,18]\n",
        "for num_topics in tqdm(num_topics_list):\n",
        "    lda_model = gensim.models.ldamodel.LdaModel(corpus=corpus,\n",
        "                                           id2word=id2word,\n",
        "                                           num_topics=num_topics, \n",
        "                                           random_state=102,\n",
        "                                           update_every=1,\n",
        "                                           chunksize=100,\n",
        "                                           passes=10,\n",
        "                                           alpha='auto',\n",
        "                                           per_word_topics=True)\n",
        "    texts = [[id2word[word_id] for word_id, freq in doc] for doc in corpus]\n",
        "    coherence_model_lda = CoherenceModel(model=lda_model, texts=texts, coherence='u_mass')\n",
        "    coherence_lda = coherence_model_lda.get_coherence()\n",
        "    coherenceList_cv.append(coherence_lda)\n",
        "print('\\nCoherence Score: ', coherence_lda)"
      ]
    },
    {
      "cell_type": "code",
      "execution_count": 21,
      "metadata": {
        "id": "higoHUNDsFDn",
        "colab": {
          "base_uri": "https://localhost:8080/",
          "height": 292
        },
        "outputId": "70268f5c-6206-4245-f008-df441da63234"
      },
      "outputs": [
        {
          "output_type": "display_data",
          "data": {
            "text/plain": [
              "<Figure size 432x288 with 1 Axes>"
            ],
            "image/png": "[encoded data removed]"
          },
          "metadata": {
            "needs_background": "light"
          }
        }
      ],
      "source": [
        "plotData = pd.DataFrame({'Number of topics':num_topics_list,\n",
        "                         'Coherence score_cv':coherenceList_cv})\n",
        "# f,ax = plt.subplots(figsize=(6,4))\n",
        "#sns.set_style(\"darkgrid\")\n",
        "ax = sns.pointplot(x='Number of topics',y= 'Coherence score_cv',data=plotData)\n",
        "ax.set_xlabel('Number of topics', fontsize=10)\n",
        "ax.set_ylabel('U_Mass score', fontsize=10)\n",
        "ax.tick_params(axis='both', which='major', labelsize=9)\n",
        "plt.title('Topic coherence', fontsize=11)\n",
        "plt.savefig('coherence_bigram_umass.png', dpi=300);"
      ]
    },
    {
      "cell_type": "markdown",
      "metadata": {
        "id": "5AVwO-b-0KVX"
      },
      "source": [
        "## **Latent Semantic Indexing (LSI)**"
      ]
    },
    {
      "cell_type": "markdown",
      "metadata": {
        "id": "vr5uriG33fDS"
      },
      "source": [
        "###**U_mass**"
      ]
    },
    {
      "cell_type": "code",
      "execution_count": null,
      "metadata": {
        "colab": {
          "base_uri": "https://localhost:8080/"
        },
        "id": "Vg-DuZNH0NBP",
        "outputId": "1fe7aad8-b948-4e3a-d488-4252893e6257"
      },
      "outputs": [
        {
          "output_type": "stream",
          "name": "stdout",
          "text": [
            "Number of unique tokens: 3102\n",
            "Number of documents: 3188\n"
          ]
        }
      ],
      "source": [
        "reviews=[r.split() for r in df.get_group(ceo_username)['tweet_new_str']]\n",
        "\n",
        "dictionary = corpora.Dictionary(reviews)\n",
        "\n",
        "# Create Bag-of-words representation of the documents\n",
        "bow_corpus = [dictionary.doc2bow(rev) for rev in reviews]\n",
        "\n",
        "print('Number of unique tokens: %d' % len(dictionary))\n",
        "print('Number of documents: %d' % len(bow_corpus))"
      ]
    },
    {
      "cell_type": "code",
      "execution_count": null,
      "metadata": {
        "colab": {
          "base_uri": "https://localhost:8080/"
        },
        "id": "ELZ-R0Qe2FII",
        "outputId": "c1d0ca18-2100-4221-eb91-7c85f403203a"
      },
      "outputs": [
        {
          "output_type": "stream",
          "name": "stderr",
          "text": [
            "100%|██████████| 6/6 [00:01<00:00,  3.64it/s]"
          ]
        },
        {
          "output_type": "stream",
          "name": "stdout",
          "text": [
            "\n",
            "Coherence Score:  -20.025448576541933\n"
          ]
        },
        {
          "output_type": "stream",
          "name": "stderr",
          "text": [
            "\n"
          ]
        }
      ],
      "source": [
        "from gensim.models import CoherenceModel\n",
        "from gensim.models import LsiModel\n",
        "\n",
        "# Compute Coherence Score\n",
        "from tqdm import tqdm\n",
        "coherenceList_u_mass=[]\n",
        "num_topics_list = [3,5, 8,10,15,20]\n",
        "for num_topics in tqdm(num_topics_list):\n",
        "    lsi_model = gensim.models.LsiModel(corpus=bow_corpus,\n",
        "                                       #alpha=0.5, \n",
        "                                       id2word=dictionary,\n",
        "                                       num_topics=num_topics, \n",
        "                                       #random_state=100,\n",
        "                                       chunksize=10000,\n",
        "                                       ##passes=30,\n",
        "                                       #workers=4\n",
        "                                       #per_word_topics=True\n",
        "                                      )\n",
        "    texts = [[dictionary[word_id] for word_id, freq in doc] for doc in bow_corpus]\n",
        "    coherence_model_lsi = CoherenceModel(model=lsi_model, texts=texts, coherence='u_mass')\n",
        "    coherence_lsi = coherence_model_lsi.get_coherence()\n",
        "    coherenceList_u_mass.append(coherence_lsi)\n",
        "print('\\nCoherence Score: ', coherence_lsi)"
      ]
    },
    {
      "cell_type": "code",
      "execution_count": null,
      "metadata": {
        "colab": {
          "base_uri": "https://localhost:8080/",
          "height": 292
        },
        "id": "eQS2zjIg2Hhu",
        "outputId": "f7d469ee-2d00-47c8-8e66-8df8690214b4"
      },
      "outputs": [
        {
          "output_type": "display_data",
          "data": {
            "text/plain": [
              "<Figure size 432x288 with 1 Axes>"
            ],
            "image/png": "[encoded data removed]"
          },
          "metadata": {
            "needs_background": "light"
          }
        }
      ],
      "source": [
        "plotData = pd.DataFrame({'Number of topics':num_topics_list,\n",
        "                         'Coherence score_u_mass':coherenceList_u_mass})\n",
        "# f,ax = plt.subplots(figsize=(6,4))\n",
        "# sns.set_style(\"darkgrid\")\n",
        "ax = sns.pointplot(x='Number of topics',y= 'Coherence score_u_mass',data=plotData)\n",
        "ax.set_xlabel('Number of topics', fontsize=10)\n",
        "ax.set_ylabel('U_Mass score', fontsize=10)\n",
        "ax.tick_params(axis='both', which='major', labelsize=9)\n",
        "plt.title('LSI Topic coherence', fontsize=11)\n",
        "plt.savefig('LSI_coherence_umass.png', dpi=300);"
      ]
    },
    {
      "cell_type": "markdown",
      "metadata": {
        "id": "MlF4UqcK3qsn"
      },
      "source": [
        "###**Coherence_cv**"
      ]
    },
    {
      "cell_type": "code",
      "execution_count": null,
      "metadata": {
        "colab": {
          "base_uri": "https://localhost:8080/"
        },
        "id": "1POQ4iM83qso",
        "outputId": "f1cecd21-7173-421a-fc27-400951c8bda0"
      },
      "outputs": [
        {
          "output_type": "stream",
          "name": "stdout",
          "text": [
            "Number of unique tokens: 3102\n",
            "Number of documents: 3188\n"
          ]
        }
      ],
      "source": [
        "reviews=[r.split() for r in df.get_group(ceo_username)['tweet_new_str']]\n",
        "\n",
        "dictionary = corpora.Dictionary(reviews)\n",
        "\n",
        "# Create Bag-of-words representation of the documents\n",
        "bow_corpus = [dictionary.doc2bow(rev) for rev in reviews]\n",
        "\n",
        "print('Number of unique tokens: %d' % len(dictionary))\n",
        "print('Number of documents: %d' % len(bow_corpus))"
      ]
    },
    {
      "cell_type": "code",
      "execution_count": null,
      "metadata": {
        "id": "pAcBfBveVk7s"
      },
      "outputs": [],
      "source": [
        "#This code is from https://github.com/RaRe-Technologies/gensim/issues/3040 to solve coherence== nan value \n",
        "import logging\n",
        "            \n",
        "import numpy as np\n",
        "from gensim.topic_coherence import direct_confirmation_measure\n",
        "            \n",
        "log = logging.getLogger(__name__)\n",
        "            \n",
        "ADD_VALUE = 1\n",
        "\n",
        "\n",
        "def custom_log_ratio_measure(segmented_topics, accumulator, normalize=False, with_std=False, with_support=False):\n",
        "    topic_coherences = []\n",
        "    num_docs = float(accumulator.num_docs)\n",
        "    for s_i in segmented_topics:\n",
        "        segment_sims = []\n",
        "        for w_prime, w_star in s_i:\n",
        "            w_prime_count = accumulator[w_prime]\n",
        "            w_star_count = accumulator[w_star]\n",
        "            co_occur_count = accumulator[w_prime, w_star]\n",
        "                \n",
        "            if normalize:\n",
        "               # For normalized log ratio measure\n",
        "               numerator = custom_log_ratio_measure([[(w_prime, w_star)]], accumulator)[0]\n",
        "               co_doc_prob = co_occur_count / num_docs\n",
        "               m_lr_i = numerator / (-np.log(co_doc_prob + direct_confirmation_measure.EPSILON))\n",
        "            else:\n",
        "               # For log ratio measure without normalization\n",
        "               ### _custom: Added the following 6 lines, to prevent a division by zero error.\n",
        "               if w_star_count == 0:\n",
        "                  log.info(f\"w_star_count of {w_star} == 0. Adding {ADD_VALUE} to the count to prevent error. \")\n",
        "                  w_star_count += ADD_VALUE\n",
        "               if w_prime_count == 0:\n",
        "                  log.info(f\"w_prime_count of {w_prime} == 0. Adding {ADD_VALUE} to the count to prevent error. \")\n",
        "                  w_prime_count += ADD_VALUE\n",
        "               numerator = (co_occur_count / num_docs) + direct_confirmation_measure.EPSILON\n",
        "               denominator = (w_prime_count / num_docs) * (w_star_count / num_docs)\n",
        "               m_lr_i = np.log(numerator / denominator)\n",
        "                \n",
        "               segment_sims.append(m_lr_i)\n",
        "                \n",
        "               topic_coherences.append(direct_confirmation_measure.aggregate_segment_sims(segment_sims, with_std, with_support))\n",
        "                \n",
        "    return topic_coherences\n",
        "      "
      ]
    },
    {
      "cell_type": "code",
      "execution_count": null,
      "metadata": {
        "id": "WZ8XQuBNWCtU"
      },
      "outputs": [],
      "source": [
        "#This code is from https://github.com/RaRe-Technologies/gensim/issues/3040 to solve coherence== nan value \n",
        "\n",
        "from gensim.topic_coherence import direct_confirmation_measure\n",
        "#from my_custom_module import custom_log_ratio_measure\n",
        "                \n",
        "direct_confirmation_measure.log_ratio_measure = custom_log_ratio_measure"
      ]
    },
    {
      "cell_type": "code",
      "execution_count": null,
      "metadata": {
        "colab": {
          "base_uri": "https://localhost:8080/"
        },
        "id": "93n74t7c3qsp",
        "outputId": "8572b4e3-619e-45f4-d803-d9ec9d436c2e"
      },
      "outputs": [
        {
          "output_type": "stream",
          "name": "stderr",
          "text": [
            "100%|██████████| 5/5 [00:06<00:00,  1.25s/it]"
          ]
        },
        {
          "output_type": "stream",
          "name": "stdout",
          "text": [
            "\n",
            "Coherence Score:  0.8312615743507876\n"
          ]
        },
        {
          "output_type": "stream",
          "name": "stderr",
          "text": [
            "\n"
          ]
        }
      ],
      "source": [
        "from gensim.models import CoherenceModel\n",
        "from gensim.models import LsiModel\n",
        "texts = df.get_group(ceo_username)['tweet_new']\n",
        "# Compute Coherence Score\n",
        "from tqdm import tqdm\n",
        "coherenceList_cv=[]\n",
        "num_topics_list = [3,5, 8,15,20]\n",
        "for num_topics in tqdm(num_topics_list):\n",
        "    lsi_model = gensim.models.LsiModel(corpus=bow_corpus,\n",
        "                                       #alpha=0.5, \n",
        "                                       id2word=dictionary,\n",
        "                                       num_topics=num_topics, \n",
        "                                       #random_state=100,\n",
        "                                       chunksize=10000,\n",
        "                                       ##passes=30,\n",
        "                                       #workers=4\n",
        "                                       #per_word_topics=True\n",
        "                                      )\n",
        "    #texts = [[lambda x: x in dictionary.values() for t in texts] for doc in bow_corpus]\n",
        "    \n",
        "    #texts = [[lambda word_id: word_id in dictionary[word_id] for word_id in bow_corpus]]\n",
        "    texts = [[lambda word_id: word_id in dictionary[word_id] for word_id in bow_corpus]]\n",
        "\n",
        "        \n",
        "    texts = [[dictionary[word_id] for word_id, freq in doc] for doc in bow_corpus]\n",
        "\n",
        "    \n",
        "\n",
        "    coherence_model_lsi = CoherenceModel(model=lsi_model, texts=texts, coherence='c_v')\n",
        "    coherence_lsi = coherence_model_lsi.get_coherence()\n",
        "\n",
        "    \n",
        "    coherenceList_cv.append(coherence_lsi)\n",
        "print('\\nCoherence Score: ', coherence_lsi)\n",
        "   "
      ]
    },
    {
      "cell_type": "code",
      "execution_count": null,
      "metadata": {
        "colab": {
          "base_uri": "https://localhost:8080/",
          "height": 292
        },
        "id": "lWooX-zLX-KA",
        "outputId": "030274aa-43a1-4a06-9ae0-5007485683f7"
      },
      "outputs": [
        {
          "output_type": "display_data",
          "data": {
            "text/plain": [
              "<Figure size 432x288 with 1 Axes>"
            ],
            "image/png": "[encoded data removed]"
          },
          "metadata": {
            "needs_background": "light"
          }
        }
      ],
      "source": [
        "plotData = pd.DataFrame({'Number of topics':num_topics_list,\n",
        "                         'Coherence score_cv':coherenceList_cv})\n",
        "# f,ax = plt.subplots(figsize=(6,4))\n",
        "# sns.set_style(\"darkgrid\")\n",
        "ax = sns.pointplot(x='Number of topics',y= 'Coherence score_cv',data=plotData)\n",
        "ax.set_xlabel('Number of topics', fontsize=10)\n",
        "ax.set_ylabel('C_V score', fontsize=10)\n",
        "ax.tick_params(axis='both', which='major', labelsize=9)\n",
        "plt.title('LSI Topic coherence', fontsize=11)\n",
        "plt.savefig('LSI_coherence_CV.png', dpi=300);"
      ]
    },
    {
      "cell_type": "markdown",
      "source": [
        "## **Applying Best Topic Model** "
      ],
      "metadata": {
        "id": "7yYFm_yERnNX"
      }
    },
    {
      "cell_type": "code",
      "execution_count": 22,
      "metadata": {
        "colab": {
          "base_uri": "https://localhost:8080/"
        },
        "outputId": "9ecb4a5f-d8d7-403e-be14-964ee0c75203",
        "id": "cbg4A9r1xops"
      },
      "outputs": [
        {
          "output_type": "stream",
          "name": "stdout",
          "text": [
            "Number of unique tokens: 3102\n",
            "Number of documents: 3188\n"
          ]
        }
      ],
      "source": [
        "reviews=[r.split() for r in df.get_group(ceo_username)['tweet_new_str']]\n",
        "\n",
        "dictionary = corpora.Dictionary(reviews)\n",
        "\n",
        "# Create Bag-of-words representation of the documents\n",
        "bow_corpus = [dictionary.doc2bow(rev) for rev in reviews]\n",
        "\n",
        "print('Number of unique tokens: %d' % len(dictionary))\n",
        "print('Number of documents: %d' % len(bow_corpus))"
      ]
    },
    {
      "cell_type": "code",
      "execution_count": 25,
      "metadata": {
        "id": "hSIReaUKggWd"
      },
      "outputs": [],
      "source": [
        "# supporting function\n",
        "def compute_coherence_values(corpus, dictionary, k, a, b):\n",
        "    \n",
        "    lda_model = gensim.models.LdaMulticore(corpus=bow_corpus,\n",
        "                                           id2word=dictionary,\n",
        "                                           num_topics=k, \n",
        "                                           random_state=100,\n",
        "                                           chunksize=10000,\n",
        "                                           passes=30,\n",
        "                                           alpha=a,\n",
        "                                           eta=b,\n",
        "                                           workers=4)\n",
        "    texts = [[dictionary[word_id] for word_id, freq in doc] for doc in bow_corpus]\n",
        "    coherence_model_lda = CoherenceModel(model=lda_model, texts=texts, coherence='c_v')\n",
        "    \n",
        "    return coherence_model_lda.get_coherence()\n",
        "\n",
        "alpha=[0.3,0.5,0.7]\n",
        "beta=[0.3,0.5,0.7]\n",
        "\n",
        "\n",
        "model_results = {\n",
        "                 #'Topics': [],\n",
        "                 'Alpha': [],\n",
        "                 'Beta': [],\n",
        "                 'Coherence': []\n",
        "                }\n",
        "\n",
        "for a in alpha:\n",
        "    for b in beta:\n",
        "        cv = compute_coherence_values(corpus=bow_corpus, dictionary=dictionary, k= 3, a=a, b=b)\n",
        "        #model_results['Topics'].append(k)\n",
        "        model_results['Alpha'].append(a)\n",
        "        model_results['Beta'].append(b)\n",
        "        model_results['Coherence'].append(cv)\n",
        "                    \n",
        "pd.DataFrame(model_results).to_csv('lda_tuning_results_cv.csv', index=False)"
      ]
    },
    {
      "cell_type": "code",
      "execution_count": 29,
      "metadata": {
        "id": "6CQarEF1iXfg"
      },
      "outputs": [],
      "source": [
        "# Creating the object for LDA model using gensim library\n",
        "\n",
        "lda_model_3 = gensim.models.LdaMulticore(corpus=bow_corpus,\n",
        "                                       alpha=0.5, \n",
        "                                       eta=0.7, \n",
        "                                       id2word=dictionary,\n",
        "                                       num_topics=3, \n",
        "                                       random_state=100,\n",
        "                                       chunksize=10000,\n",
        "                                       passes=30,\n",
        "                                       workers=4\n",
        "                                       #per_word_topics=True\n",
        "                                      )\n",
        "\n",
        "\n",
        "pyLDAvis.enable_notebook()\n",
        "vis_3 = pyLDAvis.gensim_models.prepare(lda_model_3, bow_corpus, dictionary)\n",
        "\n",
        "\n",
        "pyLDAvis.save_html(vis_3, 'lda_3.html')"
      ]
    },
    {
      "cell_type": "code",
      "execution_count": null,
      "metadata": {
        "id": "Hw8T3nfJi_Py",
        "colab": {
          "base_uri": "https://localhost:8080/",
          "height": 862
        },
        "outputId": "ebe1afd4-88e3-45c4-9831-2012fa1955ac"
      },
      "outputs": [
        {
          "output_type": "display_data",
          "data": {
            "text/plain": [
              "<IPython.core.display.HTML object>"
            ],
            "text/html": [
              "\n",
              "<link rel=\"stylesheet\" type=\"text/css\" href=\"https://cdn.jsdelivr.net/gh/bmabey/pyLDAvis@3.3.1/pyLDAvis/js/ldavis.v1.0.0.css\">\n",
              "\n",
              "\n",
              "<div id=\"ldavis_el8651397320827600168816914072\"></div>\n",
              "<script type=\"text/javascript\">\n",
              "\n",
              "var ldavis_el8651397320827600168816914072_data = {\"mdsDat\": {\"x\": [-0.028279920652853334, 0.022128798375836554, 0.006151122277016783], \"y\": [-0.009071713159017898, -0.01954905978152166, 0.028620772940539555], \"topics\": [1, 2, 3], \"cluster\": [1, 1, 1], \"Freq\": [33.497323222043484, 33.31100245032509, 33.191674327631425]}, \"tinfo\": {\"Term\": [\"playnicebutwin\", \"posted,new,video,facebook\", \"see\", \"davidblaine,joining,realize,digital,future,general,session,dellemcworld,pure,magic\", \"andystephensmke,tweet,2,years,ago,28,years,30,years\", \"looking,forward,seeing,delltechworld\", \"jaketheman72,tweet,2,years,ago,28,years,30,years\", \"posted,new,photo,facebook\", \"front,page,today,wall,street,journal,dellemcstorage,dellemc,delltech\", \"true,story\", \"dell30more\", \"play,nice,win\", \"dellsecureworks,growing,fast,hiring,around,world,support,additional,clients,start,career\", \"delltechnologies,dellemc\", \"channel,become,dell,normal\", \"ai,rocket,ship,data,fuel,iot,5g,trillion,connected,nodes,cambrian,explosion,opportunity,edge,distributed\", \"congratulations,pgelsinger,entire,vmware,team\", \"hiring,thousands,new,sales,people,support,growth,dell,globally,begins\", \"look,forward,seeing\", \"inc,things,distinguish,real,entrepreneurs,starting,right,place,michaeldell\", \"delltechnologies\", \"michael,dell,afford,bolder,private,owner\", \"private,companies,outpace,public,companies,sales,growth,profitability\", \"happy,5th,anniversary,everyone,delltech,vmware,secureworks,huge,thanks,cust\", \"wonderful,see,202,million,vaccine,doses,administered,usa\", \"digital,transformation,sxsw,2017,make,real,delltech\", \"thanks,usatoday,recognizing,dell,vmware,list,companies,best,managers,proud\", \"rahul_j_mathur,using,dell,laptops,8,years,cool,hear,dell,founding,story,college,dorm,room\", \"student,centered,learning,yields,better,education,outcomes\", \"heart,warming,story,via,people,real,impact,technology,thanks,collaboration\", \"posted,new,video,facebook\", \"congratulations,pgelsinger,entire,vmware,team\", \"hiring,thousands,new,sales,people,support,growth,dell,globally,begins\", \"look,forward,seeing\", \"inc,things,distinguish,real,entrepreneurs,starting,right,place,michaeldell\", \"delltechnologies\", \"michael,dell,afford,bolder,private,owner\", \"private,companies,outpace,public,companies,sales,growth,profitability\", \"enterprises,deploying,cisco,vmware,sdn,vmwarensx,together,loving\", \"proud,support,clemsonnews,jimbottum,create,social,media,listening,center\", \"ahe23,proud,help,accelerate,pivotal,pivotalcf,movement,delltech\", \"vxrail,4,0,250x,25,smaller,200x,flash,40,faster\", \"showing,love,dellchannel,partners\", \"walking,dell,one,logo,make\", \"sumit_dhawan,welcome,apteligent,team,vmware,great,things,come,vmworld,airwatch,workspaceone\", \"rcrracing,leading,edge,iot,bigdata,analytics\", \"always,proud,see,dell,delltech,list\", \"xianrenaud,best,quote,far,morning,opening,whoop,ass,opening,whole,whoop,ass,factory,daac\", \"careersatdell,new,team,united,ready,change,world,introducing,delltechnologies\", \"also,happy,recently,part,dedication,eni,new,hpc5,system,made,1,820,dellemc,powere\", \"simonrob451,flash,compellent,fluid,cache,get,top,billing,michaeldell,keynote,daac,says,98,compellent,arrays,ship\", \"dellcares,heartfelt,thankyou,veterans,served,us,veteransday\", \"dellhealth,dell,unveils,new,medical,review,22,monitor,mr2217,purpose,built,healthcare\", \"comparably,dell,careersatdell,businessinsider,thank,honored\", \"proud,support,veterans,one,top,veteran,friendly,companies\", \"dellemcpartners,learn,new,scv3000,new,set,array,models,sc,series,portfolio,advanced,capabilities,ht\", \"game,alienware\", \"chrissyfarr,awesome,indispensable,tool,providing,data,help,improve,sleep,overall,health,v\", \"pc,dead\", \"thrilled,celebrate,best,consumer,line,yet,dellxps,lightbxnyc\", \"playnicebutwin\", \"see\", \"play,nice,win\", \"dellsecureworks,growing,fast,hiring,around,world,support,additional,clients,start,career\", \"delltechnologies,dellemc\", \"channel,become,dell,normal\", \"ai,rocket,ship,data,fuel,iot,5g,trillion,connected,nodes,cambrian,explosion,opportunity,edge,distributed\", \"powerprotect,cyber,recovery,solution,built,specifically,address,massive,increase,sophisticati\", \"thanks,much,sakacc,passion,love,technology,customers,almost,20,years\", \"great,article,lindarottenberg,learned,resilience,female,entrepreneurship,dwen\", \"announcement,linkedin,new,dell,seton,medical,center,university,texas\", \"simplified,networking,merging,core,access,networks,deliver,critical,applications\", \"yes,position,delltech,best,trusted,partner,digital,future,always,keep,f\", \"new,year,resolution,1,unveil,best,portfolio,consumer,devices,company,history,done\", \"thank,great,customers,partners,best,dellworld,ever,see,next,year\", \"world,digitally,transformed,overnight,love,seeing,team,boomi,coming,ways,support,non,profi\", \"great,event,even,better,cause,princestrust\", \"delloem,getting,started,iot,inside,dell,iot,labs,bthorowitz,inteliot\", \"patrickmoorhead,new,dell,venue,8,7000,crazy,thin,6,mm,idf2014\", \"dellservices,thrilled,introduce,dell,digital,business,services,dellworld\", \"thank,10,000,dell,kace,customers,dellsysmgmt\", \"pivotal,hadoop,native,sql,powered,apache,hawq\", \"great,vce,vug,himss16\", \"looking,forward,biggest,ever,epic,vmworld,w,pgelsinger,spoonen,raghuraghuram\", \"battle,banking,botnets,still\", \"dell,introduces,new,server,powerhouse,accelerate,demanding,enterprise,applications\", \"delltechworld,pgelsinger,describing,delltechcloud,vmware,dellemc,awscloud,azure,ibmcloud\", \"erynalogan,impressive,dell,1,storage,dellworld\", \"glimpse,future,predictive,analytics,healthcare\", \"thanks,matteastwood,velocloud,vmware,vmwarensx,delltech,inetnut,rajivramaswami,pgelsinger\", \"davidblaine,joining,realize,digital,future,general,session,dellemcworld,pure,magic\", \"andystephensmke,tweet,2,years,ago,28,years,30,years\", \"looking,forward,seeing,delltechworld\", \"jaketheman72,tweet,2,years,ago,28,years,30,years\", \"posted,new,photo,facebook\", \"front,page,today,wall,street,journal,dellemcstorage,dellemc,delltech\", \"true,story\", \"dell30more\", \"happy,5th,anniversary,everyone,delltech,vmware,secureworks,huge,thanks,cust\", \"wonderful,see,202,million,vaccine,doses,administered,usa\", \"digital,transformation,sxsw,2017,make,real,delltech\", \"thanks,usatoday,recognizing,dell,vmware,list,companies,best,managers,proud\", \"rahul_j_mathur,using,dell,laptops,8,years,cool,hear,dell,founding,story,college,dorm,room\", \"student,centered,learning,yields,better,education,outcomes\", \"heart,warming,story,via,people,real,impact,technology,thanks,collaboration\", \"therealnimoy,thanks,using,dell,grew,star,trek,honored\", \"dellemcprotect,protecting,data,cloud,easy,1,2,3,discover,3,ways,simplify,multicloud,dat\", \"peterattiamd,artificial,intelligence\", \"satyanadella,michaeldell,walterisaacson,raydalio,ericschmidt,indranooyi,richardbranson,howardschultz,benioff,sherylsandberg\", \"doug_laney,finally,share,super,exciting,news,family,investment,office,michaeldell,makes,strategic,investment,w\", \"2020,legacy,good,plan,annual,report\", \"inc,michaeldell,reading,right\", \"googlecloud,container,workload,portability,k8s,release,synchronization,pks,access,gcp,services,vmware,pivotal,https\", \"dell,awards,outstanding,emea,channel,partners,solutions,conference,brussels\", \"spoonen,pivotalcf,vmwarensx,100,agree\", \"software,defined,data,center,dell,vmware,collaborate,2,deliver,vmware,nsx,solutions,open,networking\", \"dellemcpowerone,empowers,customers,focus,business,great,see,partners,excited\", \"vmwarecloudmgmt,excited,announce,wavefronthq,officially,part,vmware,family,sign,free,trial,today,h\", \"proud,dell,dellemc,vmware,pivotal,delltech,1,technology,company,women,1,everything\", \"thank,cherokeenation,proud,help,make,data,center,reality\"], \"Freq\": [2.0, 2.0, 1.0, 1.0, 1.0, 1.0, 1.0, 1.0, 1.0, 1.0, 1.0, 1.0, 1.0, 1.0, 1.0, 1.0, 1.0, 1.0, 1.0, 1.0, 1.0, 1.0, 1.0, 1.0, 1.0, 1.0, 1.0, 1.0, 1.0, 1.0, 2.1475544827459654, 0.8461376409182279, 0.8461212643070599, 0.8460401756390754, 0.8460341871767826, 0.8460322317605238, 0.8459076961875377, 0.8451461226614704, 0.5193153558748868, 0.5193135837789022, 0.5193110784018206, 0.5192983070893799, 0.5192948240041687, 0.5192877356202305, 0.5192859635242458, 0.5192852302431488, 0.5192780196456942, 0.5192769197240485, 0.519276491976742, 0.5192761253361934, 0.5192760031226773, 0.519271725649611, 0.5192695258063198, 0.5192692813792874, 0.5192670204292381, 0.5192656760805602, 0.5192656149738021, 0.5192634151305109, 0.5192625596358976, 0.5192600542588159, 2.1457145163444404, 1.1710947975671304, 0.8457026291903793, 0.8456517065562498, 0.8455880228801546, 0.8455629869311553, 0.8442693818770372, 0.5191842684767263, 0.5191801970966706, 0.519178313323809, 0.5191765510846804, 0.5191746065449523, 0.5191745457780859, 0.5191729050726902, 0.5191727835389572, 0.5191696236618991, 0.5191664030179743, 0.5191627570059842, 0.5191623316379187, 0.5191621493373192, 0.5191619062698531, 0.5191600832638581, 0.5191498136634191, 0.519148355258623, 0.5191447700134993, 0.5191427039400381, 0.5191421570382396, 0.5191403340322446, 0.5191383894925164, 0.5191374779895189, 0.845261170232024, 0.845201105440713, 0.8450879995635265, 0.8450571194792841, 0.8450562112415122, 0.8449699892023722, 0.8446572526629355, 0.844295289636265, 0.5191385381204302, 0.5191289108000486, 0.5191073552902638, 0.5191071130935245, 0.5191061443065679, 0.5190891299856422, 0.5190889483380877, 0.5190828934196088, 0.519081682435913, 0.5190813796899891, 0.5190811980424347, 0.5190798659603694, 0.5190795632144454, 0.5190755064190645, 0.5190710257793901, 0.5190687249103682, 0.5190622461475957, 0.5190547985978666, 0.5190528004747685, 0.5190521949829207, 0.519051528941888, 0.5190514683927032], \"Total\": [2.0, 2.0, 1.0, 1.0, 1.0, 1.0, 1.0, 1.0, 1.0, 1.0, 1.0, 1.0, 1.0, 1.0, 1.0, 1.0, 1.0, 1.0, 1.0, 1.0, 1.0, 1.0, 1.0, 1.0, 1.0, 1.0, 1.0, 1.0, 1.0, 1.0, 2.6330638532917385, 1.332365046489535, 1.3323649559680453, 1.3323647957720957, 1.3323647085113235, 1.3323646495899713, 1.3323643295054182, 1.3323624030263672, 1.0072012294125536, 1.0072012177682406, 1.0072012155330778, 1.0072011323223944, 1.0072011741423867, 1.0072010870258334, 1.0072010779392804, 1.0072010841460424, 1.0072010857417175, 1.0072011526059628, 1.0072010417623085, 1.00720107823187, 1.0072010976332253, 1.0072010581048931, 1.0072010305682386, 1.0072010518728218, 1.0072010550327541, 1.0072010961694158, 1.0072010414758514, 1.007201042443166, 1.007201060160321, 1.0072009959150388, 2.6312152887475198, 1.656636788996737, 1.3317806558052894, 1.331780715160804, 1.3317806018765104, 1.3317804981268757, 1.3317786887683318, 1.0069350104134824, 1.0069350437194409, 1.0069349829473682, 1.00693505170693, 1.0069349823839118, 1.0069350184568817, 1.0069349847311457, 1.0069350230471268, 1.0069350149378187, 1.0069350307217793, 1.0069350284204035, 1.006934958763631, 1.0069350072557588, 1.0069349499348297, 1.0069349438832291, 1.006934934276718, 1.0069349052948209, 1.006934888635498, 1.0069349274300867, 1.0069349204790323, 1.0069348595630379, 1.0069349418876734, 1.0069349087053647, 1.3313881742415323, 1.331388112337921, 1.3313881000113232, 1.3313879813175806, 1.3313880968544936, 1.3313880891955168, 1.3313877031983328, 1.3313876434565932, 1.0067559843910967, 1.006755973530744, 1.0067559504503294, 1.0067560255986132, 1.0067559746876213, 1.0067559746828838, 1.0067559845314338, 1.006755944889819, 1.0067559788436986, 1.006755996350308, 1.0067559584072263, 1.0067559717969186, 1.0067559756710007, 1.0067559312251309, 1.0067559515156814, 1.0067559342772858, 1.0067559813319629, 1.0067559826999175, 1.0067559480839354, 1.0067559269966107, 1.0067559965309432, 1.0067559696975668], \"Category\": [\"Default\", \"Default\", \"Default\", \"Default\", \"Default\", \"Default\", \"Default\", \"Default\", \"Default\", \"Default\", \"Default\", \"Default\", \"Default\", \"Default\", \"Default\", \"Default\", \"Default\", \"Default\", \"Default\", \"Default\", \"Default\", \"Default\", \"Default\", \"Default\", \"Default\", \"Default\", \"Default\", \"Default\", \"Default\", \"Default\", \"Topic1\", \"Topic1\", \"Topic1\", \"Topic1\", \"Topic1\", \"Topic1\", \"Topic1\", \"Topic1\", \"Topic1\", \"Topic1\", \"Topic1\", \"Topic1\", \"Topic1\", \"Topic1\", \"Topic1\", \"Topic1\", \"Topic1\", \"Topic1\", \"Topic1\", \"Topic1\", \"Topic1\", \"Topic1\", \"Topic1\", \"Topic1\", \"Topic1\", \"Topic1\", \"Topic1\", \"Topic1\", \"Topic1\", \"Topic1\", \"Topic2\", \"Topic2\", \"Topic2\", \"Topic2\", \"Topic2\", \"Topic2\", \"Topic2\", \"Topic2\", \"Topic2\", \"Topic2\", \"Topic2\", \"Topic2\", \"Topic2\", \"Topic2\", \"Topic2\", \"Topic2\", \"Topic2\", \"Topic2\", \"Topic2\", \"Topic2\", \"Topic2\", \"Topic2\", \"Topic2\", \"Topic2\", \"Topic2\", \"Topic2\", \"Topic2\", \"Topic2\", \"Topic2\", \"Topic2\", \"Topic3\", \"Topic3\", \"Topic3\", \"Topic3\", \"Topic3\", \"Topic3\", \"Topic3\", \"Topic3\", \"Topic3\", \"Topic3\", \"Topic3\", \"Topic3\", \"Topic3\", \"Topic3\", \"Topic3\", \"Topic3\", \"Topic3\", \"Topic3\", \"Topic3\", \"Topic3\", \"Topic3\", \"Topic3\", \"Topic3\", \"Topic3\", \"Topic3\", \"Topic3\", \"Topic3\", \"Topic3\", \"Topic3\", \"Topic3\"], \"logprob\": [30.0, 29.0, 28.0, 27.0, 26.0, 25.0, 24.0, 23.0, 22.0, 21.0, 20.0, 19.0, 18.0, 17.0, 16.0, 15.0, 14.0, 13.0, 12.0, 11.0, 10.0, 9.0, 8.0, 7.0, 6.0, 5.0, 4.0, 3.0, 2.0, 1.0, -6.192, -7.1234, -7.1235, -7.1235, -7.1236, -7.1236, -7.1237, -7.1246, -7.6116, -7.6116, -7.6116, -7.6116, -7.6116, -7.6117, -7.6117, -7.6117, -7.6117, -7.6117, -7.6117, -7.6117, -7.6117, -7.6117, -7.6117, -7.6117, -7.6117, -7.6117, -7.6117, -7.6117, -7.6117, -7.6117, -6.1873, -6.7928, -7.1184, -7.1184, -7.1185, -7.1185, -7.1201, -7.6063, -7.6063, -7.6063, -7.6063, -7.6063, -7.6063, -7.6063, -7.6063, -7.6063, -7.6063, -7.6063, -7.6063, -7.6063, -7.6063, -7.6063, -7.6063, -7.6063, -7.6064, -7.6064, -7.6064, -7.6064, -7.6064, -7.6064, -7.1153, -7.1154, -7.1155, -7.1155, -7.1155, -7.1156, -7.116, -7.1164, -7.6028, -7.6028, -7.6028, -7.6028, -7.6028, -7.6029, -7.6029, -7.6029, -7.6029, -7.6029, -7.6029, -7.6029, -7.6029, -7.6029, -7.6029, -7.6029, -7.6029, -7.6029, -7.6029, -7.6029, -7.6029, -7.6029], \"loglift\": [30.0, 29.0, 28.0, 27.0, 26.0, 25.0, 24.0, 23.0, 22.0, 21.0, 20.0, 19.0, 18.0, 17.0, 16.0, 15.0, 14.0, 13.0, 12.0, 11.0, 10.0, 9.0, 8.0, 7.0, 6.0, 5.0, 4.0, 3.0, 2.0, 1.0, 0.8899, 0.6397, 0.6397, 0.6396, 0.6396, 0.6396, 0.6394, 0.6385, 0.4313, 0.4313, 0.4313, 0.4313, 0.4312, 0.4312, 0.4312, 0.4312, 0.4312, 0.4312, 0.4312, 0.4312, 0.4312, 0.4312, 0.4312, 0.4312, 0.4312, 0.4312, 0.4312, 0.4312, 0.4312, 0.4312, 0.8953, 0.7524, 0.6452, 0.6451, 0.645, 0.645, 0.6435, 0.4369, 0.4369, 0.4369, 0.4369, 0.4369, 0.4369, 0.4369, 0.4369, 0.4368, 0.4368, 0.4368, 0.4368, 0.4368, 0.4368, 0.4368, 0.4368, 0.4368, 0.4368, 0.4368, 0.4368, 0.4368, 0.4368, 0.4368, 0.6485, 0.6485, 0.6483, 0.6483, 0.6483, 0.6482, 0.6478, 0.6474, 0.4406, 0.4405, 0.4405, 0.4405, 0.4405, 0.4405, 0.4405, 0.4404, 0.4404, 0.4404, 0.4404, 0.4404, 0.4404, 0.4404, 0.4404, 0.4404, 0.4404, 0.4404, 0.4404, 0.4404, 0.4404, 0.4404]}, \"token.table\": {\"Topic\": [3, 1, 2, 1, 1, 3, 2, 2, 1, 2, 1, 1, 1, 3, 3, 2, 3, 1, 1, 3, 3, 1, 2, 2, 2, 1, 2, 2, 3, 3, 1, 2, 3, 1, 2, 3, 2, 2, 2, 3, 3, 1, 3, 1, 3, 1, 2, 3, 1, 2, 2, 1, 3, 2, 2, 2, 3, 1, 2, 1, 3, 1, 1, 3, 1, 3, 2, 1, 1, 2, 3, 3, 3, 1, 2, 3, 2, 2, 2, 3, 3, 1, 3, 3, 1, 1, 3, 2, 1, 2], \"Freq\": [0.9932893612411907, 0.9928502712049782, 0.7508755083960905, 0.9928504065498902, 0.9928503991470436, 0.7510957854685945, 0.9931127119915293, 0.9931128728244827, 0.9928504424998322, 0.7508744882557458, 0.9928504418286754, 0.9928504325333736, 0.7505450571784078, 0.7510957505459908, 0.9932894020812147, 0.9931128345624218, 0.7510960499856875, 0.992850426390097, 0.9928503888679202, 0.9932893884592454, 0.9932893581109316, 0.9928504535344091, 0.9931127349583988, 0.7508743658893245, 0.9931127558325149, 0.7505452807590963, 0.7508744297604097, 0.9931128414180599, 0.9932893861245048, 0.9932893650634522, 0.9928502575232621, 0.9931129014978712, 0.7510957985242634, 0.9928504427822079, 0.9931128203032932, 0.993289385073403, 0.9931127798072236, 0.9931127326886143, 0.9931128278097737, 0.9932893526377369, 0.993289352499277, 0.7505451081707852, 0.9932894050925436, 0.7505452475676266, 0.7510958593830558, 0.7505451984120515, 0.9931128563938397, 0.7510957924225815, 0.7505454610685999, 0.9931127780479319, 0.993112803658991, 0.992850424363955, 0.9932893408384952, 0.9931128183351303, 0.7508743993546961, 0.760105039125102, 0.7510957942034908, 0.7595714010124326, 0.9931127527181375, 0.7505465462914374, 0.9932893406602763, 0.9928502690016628, 0.992850429418464, 0.9932893622114162, 0.9928504007199835, 0.9932893782740408, 0.6036326167823438, 0.9928503120059223, 0.9928503874249672, 0.9931127803629454, 0.9932893543062944, 0.993289355655951, 0.9932893622160903, 0.992850406838311, 0.9931128123665998, 0.9932893671347226, 0.9931127402579161, 0.9931128530301119, 0.9931127198693731, 0.9932893119814246, 0.9932893916106368, 0.9928504876938722, 0.7510960162826689, 0.9932894092645025, 0.9928503532300543, 0.992850397881224, 0.9932893633528187, 0.9931127482559071, 0.9928503332354902, 0.9931127447851505], \"Term\": [\"2020,legacy,good,plan,annual,report\", \"ahe23,proud,help,accelerate,pivotal,pivotalcf,movement,delltech\", \"ai,rocket,ship,data,fuel,iot,5g,trillion,connected,nodes,cambrian,explosion,opportunity,edge,distributed\", \"also,happy,recently,part,dedication,eni,new,hpc5,system,made,1,820,dellemc,powere\", \"always,proud,see,dell,delltech,list\", \"andystephensmke,tweet,2,years,ago,28,years,30,years\", \"announcement,linkedin,new,dell,seton,medical,center,university,texas\", \"battle,banking,botnets,still\", \"careersatdell,new,team,united,ready,change,world,introducing,delltechnologies\", \"channel,become,dell,normal\", \"chrissyfarr,awesome,indispensable,tool,providing,data,help,improve,sleep,overall,health,v\", \"comparably,dell,careersatdell,businessinsider,thank,honored\", \"congratulations,pgelsinger,entire,vmware,team\", \"davidblaine,joining,realize,digital,future,general,session,dellemcworld,pure,magic\", \"dell,awards,outstanding,emea,channel,partners,solutions,conference,brussels\", \"dell,introduces,new,server,powerhouse,accelerate,demanding,enterprise,applications\", \"dell30more\", \"dellcares,heartfelt,thankyou,veterans,served,us,veteransday\", \"dellemcpartners,learn,new,scv3000,new,set,array,models,sc,series,portfolio,advanced,capabilities,ht\", \"dellemcpowerone,empowers,customers,focus,business,great,see,partners,excited\", \"dellemcprotect,protecting,data,cloud,easy,1,2,3,discover,3,ways,simplify,multicloud,dat\", \"dellhealth,dell,unveils,new,medical,review,22,monitor,mr2217,purpose,built,healthcare\", \"delloem,getting,started,iot,inside,dell,iot,labs,bthorowitz,inteliot\", \"dellsecureworks,growing,fast,hiring,around,world,support,additional,clients,start,career\", \"dellservices,thrilled,introduce,dell,digital,business,services,dellworld\", \"delltechnologies\", \"delltechnologies,dellemc\", \"delltechworld,pgelsinger,describing,delltechcloud,vmware,dellemc,awscloud,azure,ibmcloud\", \"digital,transformation,sxsw,2017,make,real,delltech\", \"doug_laney,finally,share,super,exciting,news,family,investment,office,michaeldell,makes,strategic,investment,w\", \"enterprises,deploying,cisco,vmware,sdn,vmwarensx,together,loving\", \"erynalogan,impressive,dell,1,storage,dellworld\", \"front,page,today,wall,street,journal,dellemcstorage,dellemc,delltech\", \"game,alienware\", \"glimpse,future,predictive,analytics,healthcare\", \"googlecloud,container,workload,portability,k8s,release,synchronization,pks,access,gcp,services,vmware,pivotal,https\", \"great,article,lindarottenberg,learned,resilience,female,entrepreneurship,dwen\", \"great,event,even,better,cause,princestrust\", \"great,vce,vug,himss16\", \"happy,5th,anniversary,everyone,delltech,vmware,secureworks,huge,thanks,cust\", \"heart,warming,story,via,people,real,impact,technology,thanks,collaboration\", \"hiring,thousands,new,sales,people,support,growth,dell,globally,begins\", \"inc,michaeldell,reading,right\", \"inc,things,distinguish,real,entrepreneurs,starting,right,place,michaeldell\", \"jaketheman72,tweet,2,years,ago,28,years,30,years\", \"look,forward,seeing\", \"looking,forward,biggest,ever,epic,vmworld,w,pgelsinger,spoonen,raghuraghuram\", \"looking,forward,seeing,delltechworld\", \"michael,dell,afford,bolder,private,owner\", \"new,year,resolution,1,unveil,best,portfolio,consumer,devices,company,history,done\", \"patrickmoorhead,new,dell,venue,8,7000,crazy,thin,6,mm,idf2014\", \"pc,dead\", \"peterattiamd,artificial,intelligence\", \"pivotal,hadoop,native,sql,powered,apache,hawq\", \"play,nice,win\", \"playnicebutwin\", \"posted,new,photo,facebook\", \"posted,new,video,facebook\", \"powerprotect,cyber,recovery,solution,built,specifically,address,massive,increase,sophisticati\", \"private,companies,outpace,public,companies,sales,growth,profitability\", \"proud,dell,dellemc,vmware,pivotal,delltech,1,technology,company,women,1,everything\", \"proud,support,clemsonnews,jimbottum,create,social,media,listening,center\", \"proud,support,veterans,one,top,veteran,friendly,companies\", \"rahul_j_mathur,using,dell,laptops,8,years,cool,hear,dell,founding,story,college,dorm,room\", \"rcrracing,leading,edge,iot,bigdata,analytics\", \"satyanadella,michaeldell,walterisaacson,raydalio,ericschmidt,indranooyi,richardbranson,howardschultz,benioff,sherylsandberg\", \"see\", \"showing,love,dellchannel,partners\", \"simonrob451,flash,compellent,fluid,cache,get,top,billing,michaeldell,keynote,daac,says,98,compellent,arrays,ship\", \"simplified,networking,merging,core,access,networks,deliver,critical,applications\", \"software,defined,data,center,dell,vmware,collaborate,2,deliver,vmware,nsx,solutions,open,networking\", \"spoonen,pivotalcf,vmwarensx,100,agree\", \"student,centered,learning,yields,better,education,outcomes\", \"sumit_dhawan,welcome,apteligent,team,vmware,great,things,come,vmworld,airwatch,workspaceone\", \"thank,10,000,dell,kace,customers,dellsysmgmt\", \"thank,cherokeenation,proud,help,make,data,center,reality\", \"thank,great,customers,partners,best,dellworld,ever,see,next,year\", \"thanks,matteastwood,velocloud,vmware,vmwarensx,delltech,inetnut,rajivramaswami,pgelsinger\", \"thanks,much,sakacc,passion,love,technology,customers,almost,20,years\", \"thanks,usatoday,recognizing,dell,vmware,list,companies,best,managers,proud\", \"therealnimoy,thanks,using,dell,grew,star,trek,honored\", \"thrilled,celebrate,best,consumer,line,yet,dellxps,lightbxnyc\", \"true,story\", \"vmwarecloudmgmt,excited,announce,wavefronthq,officially,part,vmware,family,sign,free,trial,today,h\", \"vxrail,4,0,250x,25,smaller,200x,flash,40,faster\", \"walking,dell,one,logo,make\", \"wonderful,see,202,million,vaccine,doses,administered,usa\", \"world,digitally,transformed,overnight,love,seeing,team,boomi,coming,ways,support,non,profi\", \"xianrenaud,best,quote,far,morning,opening,whoop,ass,opening,whole,whoop,ass,factory,daac\", \"yes,position,delltech,best,trusted,partner,digital,future,always,keep,f\"]}, \"R\": 30, \"lambda.step\": 0.01, \"plot.opts\": {\"xlab\": \"PC1\", \"ylab\": \"PC2\"}, \"topic.order\": [3, 2, 1]};\n",
              "\n",
              "function LDAvis_load_lib(url, callback){\n",
              "  var s = document.createElement('script');\n",
              "  s.src = url;\n",
              "  s.async = true;\n",
              "  s.onreadystatechange = s.onload = callback;\n",
              "  s.onerror = function(){console.warn(\"failed to load library \" + url);};\n",
              "  document.getElementsByTagName(\"head\")[0].appendChild(s);\n",
              "}\n",
              "\n",
              "if(typeof(LDAvis) !== \"undefined\"){\n",
              "   // already loaded: just create the visualization\n",
              "   !function(LDAvis){\n",
              "       new LDAvis(\"#\" + \"ldavis_el8651397320827600168816914072\", ldavis_el8651397320827600168816914072_data);\n",
              "   }(LDAvis);\n",
              "}else if(typeof define === \"function\" && define.amd){\n",
              "   // require.js is available: use it to load d3/LDAvis\n",
              "   require.config({paths: {d3: \"https://d3js.org/d3.v5\"}});\n",
              "   require([\"d3\"], function(d3){\n",
              "      window.d3 = d3;\n",
              "      LDAvis_load_lib(\"https://cdn.jsdelivr.net/gh/bmabey/pyLDAvis@3.3.1/pyLDAvis/js/ldavis.v3.0.0.js\", function(){\n",
              "        new LDAvis(\"#\" + \"ldavis_el8651397320827600168816914072\", ldavis_el8651397320827600168816914072_data);\n",
              "      });\n",
              "    });\n",
              "}else{\n",
              "    // require.js not available: dynamically load d3 & LDAvis\n",
              "    LDAvis_load_lib(\"https://d3js.org/d3.v5.js\", function(){\n",
              "         LDAvis_load_lib(\"https://cdn.jsdelivr.net/gh/bmabey/pyLDAvis@3.3.1/pyLDAvis/js/ldavis.v3.0.0.js\", function(){\n",
              "                 new LDAvis(\"#\" + \"ldavis_el8651397320827600168816914072\", ldavis_el8651397320827600168816914072_data);\n",
              "            })\n",
              "         });\n",
              "}\n",
              "</script>"
            ]
          },
          "metadata": {}
        }
      ],
      "source": [
        "display(pyLDAvis.display(vis_3))"
      ]
    },
    {
      "cell_type": "code",
      "execution_count": 38,
      "metadata": {
        "id": "zcwwcHMpjvNi",
        "colab": {
          "base_uri": "https://localhost:8080/",
          "height": 808
        },
        "outputId": "199e41b9-c183-453b-fa9c-6ec2bcce93d6"
      },
      "outputs": [
        {
          "output_type": "stream",
          "name": "stdout",
          "text": [
            "[(0,\n",
            "  '0.001*\"davidblaine,joining,realize,digital,future,general,session,dellemcworld,pure,magic\" '\n",
            "  '+ 0.001*\"andystephensmke,tweet,2,years,ago,28,years,30,years\" + '\n",
            "  '0.001*\"looking,forward,seeing,delltechworld\" + '\n",
            "  '0.001*\"jaketheman72,tweet,2,years,ago,28,years,30,years\" + '\n",
            "  '0.001*\"posted,new,photo,facebook\" + '\n",
            "  '0.001*\"front,page,today,wall,street,journal,dellemcstorage,dellemc,delltech\" '\n",
            "  '+ 0.001*\"true,story\" + 0.001*\"dell30more\" + '\n",
            "  '0.001*\"happy,5th,anniversary,everyone,delltech,vmware,secureworks,huge,thanks,cust\" '\n",
            "  '+ '\n",
            "  '0.001*\"thanks,usatoday,recognizing,dell,vmware,list,companies,best,managers,proud\"'),\n",
            " (1,\n",
            "  '0.002*\"playnicebutwin\" + 0.001*\"see\" + 0.001*\"play,nice,win\" + '\n",
            "  '0.001*\"dellsecureworks,growing,fast,hiring,around,world,support,additional,clients,start,career\" '\n",
            "  '+ 0.001*\"delltechnologies,dellemc\" + 0.001*\"channel,become,dell,normal\" + '\n",
            "  '0.001*\"ai,rocket,ship,data,fuel,iot,5g,trillion,connected,nodes,cambrian,explosion,opportunity,edge,distributed\" '\n",
            "  '+ '\n",
            "  '0.000*\"powerprotect,cyber,recovery,solution,built,specifically,address,massive,increase,sophisticati\" '\n",
            "  '+ '\n",
            "  '0.000*\"dellservices,thrilled,introduce,dell,digital,business,services,dellworld\" '\n",
            "  '+ '\n",
            "  '0.000*\"yes,position,delltech,best,trusted,partner,digital,future,always,keep,f\"'),\n",
            " (2,\n",
            "  '0.002*\"posted,new,video,facebook\" + '\n",
            "  '0.001*\"congratulations,pgelsinger,entire,vmware,team\" + '\n",
            "  '0.001*\"hiring,thousands,new,sales,people,support,growth,dell,globally,begins\" '\n",
            "  '+ '\n",
            "  '0.001*\"inc,things,distinguish,real,entrepreneurs,starting,right,place,michaeldell\" '\n",
            "  '+ 0.001*\"look,forward,seeing\" + 0.001*\"delltechnologies\" + '\n",
            "  '0.001*\"michael,dell,afford,bolder,private,owner\" + '\n",
            "  '0.001*\"private,companies,outpace,public,companies,sales,growth,profitability\" '\n",
            "  '+ 0.000*\"enterprises,deploying,cisco,vmware,sdn,vmwarensx,together,loving\" '\n",
            "  '+ 0.000*\"ahe23,proud,help,accelerate,pivotal,pivotalcf,movement,delltech\"')]\n"
          ]
        },
        {
          "output_type": "execute_result",
          "data": {
            "text/plain": [
              "     Topic0    Topic1    Topic2  Automated_topic_id\n",
              "0  0.333333  0.333333  0.333333                   0\n",
              "1  0.333333  0.333333  0.333333                   0\n",
              "2  0.220414  0.559492  0.220094                   1\n",
              "3  0.220609  0.220447  0.558944                   2\n",
              "4  0.560091  0.220039  0.219871                   0"
            ],
            "text/html": [
              "\n",
              "  <div id=\"df-60170540-dfdc-41b9-8f85-4428940a4c58\">\n",
              "    <div class=\"colab-df-container\">\n",
              "      <div>\n",
              "<style scoped>\n",
              "    .dataframe tbody tr th:only-of-type {\n",
              "        vertical-align: middle;\n",
              "    }\n",
              "\n",
              "    .dataframe tbody tr th {\n",
              "        vertical-align: top;\n",
              "    }\n",
              "\n",
              "    .dataframe thead th {\n",
              "        text-align: right;\n",
              "    }\n",
              "</style>\n",
              "<table border=\"1\" class=\"dataframe\">\n",
              "  <thead>\n",
              "    <tr style=\"text-align: right;\">\n",
              "      <th></th>\n",
              "      <th>Topic0</th>\n",
              "      <th>Topic1</th>\n",
              "      <th>Topic2</th>\n",
              "      <th>Automated_topic_id</th>\n",
              "    </tr>\n",
              "  </thead>\n",
              "  <tbody>\n",
              "    <tr>\n",
              "      <th>0</th>\n",
              "      <td>0.333333</td>\n",
              "      <td>0.333333</td>\n",
              "      <td>0.333333</td>\n",
              "      <td>0</td>\n",
              "    </tr>\n",
              "    <tr>\n",
              "      <th>1</th>\n",
              "      <td>0.333333</td>\n",
              "      <td>0.333333</td>\n",
              "      <td>0.333333</td>\n",
              "      <td>0</td>\n",
              "    </tr>\n",
              "    <tr>\n",
              "      <th>2</th>\n",
              "      <td>0.220414</td>\n",
              "      <td>0.559492</td>\n",
              "      <td>0.220094</td>\n",
              "      <td>1</td>\n",
              "    </tr>\n",
              "    <tr>\n",
              "      <th>3</th>\n",
              "      <td>0.220609</td>\n",
              "      <td>0.220447</td>\n",
              "      <td>0.558944</td>\n",
              "      <td>2</td>\n",
              "    </tr>\n",
              "    <tr>\n",
              "      <th>4</th>\n",
              "      <td>0.560091</td>\n",
              "      <td>0.220039</td>\n",
              "      <td>0.219871</td>\n",
              "      <td>0</td>\n",
              "    </tr>\n",
              "  </tbody>\n",
              "</table>\n",
              "</div>\n",
              "      <button class=\"colab-df-convert\" onclick=\"convertToInteractive('df-60170540-dfdc-41b9-8f85-4428940a4c58')\"\n",
              "              title=\"Convert this dataframe to an interactive table.\"\n",
              "              style=\"display:none;\">\n",
              "        \n",
              "  <svg xmlns=\"http://www.w3.org/2000/svg\" height=\"24px\"viewBox=\"0 0 24 24\"\n",
              "       width=\"24px\">\n",
              "    <path d=\"M0 0h24v24H0V0z\" fill=\"none\"/>\n",
              "    <path d=\"M18.56 5.44l.94 2.06.94-2.06 2.06-.94-2.06-.94-.94-2.06-.94 2.06-2.06.94zm-11 1L8.5 8.5l.94-2.06 2.06-.94-2.06-.94L8.5 2.5l-.94 2.06-2.06.94zm10 10l.94 2.06.94-2.06 2.06-.94-2.06-.94-.94-2.06-.94 2.06-2.06.94z\"/><path d=\"M17.41 7.96l-1.37-1.37c-.4-.4-.92-.59-1.43-.59-.52 0-1.04.2-1.43.59L10.3 9.45l-7.72 7.72c-.78.78-.78 2.05 0 2.83L4 21.41c.39.39.9.59 1.41.59.51 0 1.02-.2 1.41-.59l7.78-7.78 2.81-2.81c.8-.78.8-2.07 0-2.86zM5.41 20L4 18.59l7.72-7.72 1.47 1.35L5.41 20z\"/>\n",
              "  </svg>\n",
              "      </button>\n",
              "      \n",
              "  <style>\n",
              "    .colab-df-container {\n",
              "      display:flex;\n",
              "      flex-wrap:wrap;\n",
              "      gap: 12px;\n",
              "    }\n",
              "\n",
              "    .colab-df-convert {\n",
              "      background-color: #E8F0FE;\n",
              "      border: none;\n",
              "      border-radius: 50%;\n",
              "      cursor: pointer;\n",
              "      display: none;\n",
              "      fill: #1967D2;\n",
              "      height: 32px;\n",
              "      padding: 0 0 0 0;\n",
              "      width: 32px;\n",
              "    }\n",
              "\n",
              "    .colab-df-convert:hover {\n",
              "      background-color: #E2EBFA;\n",
              "      box-shadow: 0px 1px 2px rgba(60, 64, 67, 0.3), 0px 1px 3px 1px rgba(60, 64, 67, 0.15);\n",
              "      fill: #174EA6;\n",
              "    }\n",
              "\n",
              "    [theme=dark] .colab-df-convert {\n",
              "      background-color: #3B4455;\n",
              "      fill: #D2E3FC;\n",
              "    }\n",
              "\n",
              "    [theme=dark] .colab-df-convert:hover {\n",
              "      background-color: #434B5C;\n",
              "      box-shadow: 0px 1px 3px 1px rgba(0, 0, 0, 0.15);\n",
              "      filter: drop-shadow(0px 1px 2px rgba(0, 0, 0, 0.3));\n",
              "      fill: #FFFFFF;\n",
              "    }\n",
              "  </style>\n",
              "\n",
              "      <script>\n",
              "        const buttonEl =\n",
              "          document.querySelector('#df-60170540-dfdc-41b9-8f85-4428940a4c58 button.colab-df-convert');\n",
              "        buttonEl.style.display =\n",
              "          google.colab.kernel.accessAllowed ? 'block' : 'none';\n",
              "\n",
              "        async function convertToInteractive(key) {\n",
              "          const element = document.querySelector('#df-60170540-dfdc-41b9-8f85-4428940a4c58');\n",
              "          const dataTable =\n",
              "            await google.colab.kernel.invokeFunction('convertToInteractive',\n",
              "                                                     [key], {});\n",
              "          if (!dataTable) return;\n",
              "\n",
              "          const docLinkHtml = 'Like what you see? Visit the ' +\n",
              "            '<a target=\"_blank\" href=https://colab.research.google.com/notebooks/data_table.ipynb>data table notebook</a>'\n",
              "            + ' to learn more about interactive tables.';\n",
              "          element.innerHTML = '';\n",
              "          dataTable['output_type'] = 'display_data';\n",
              "          await google.colab.output.renderOutput(dataTable, element);\n",
              "          const docLink = document.createElement('div');\n",
              "          docLink.innerHTML = docLinkHtml;\n",
              "          element.appendChild(docLink);\n",
              "        }\n",
              "      </script>\n",
              "    </div>\n",
              "  </div>\n",
              "  "
            ]
          },
          "metadata": {},
          "execution_count": 38
        }
      ],
      "source": [
        "from pprint import pprint\n",
        "# Print the Keyword in the 5 topics\n",
        "pprint(lda_model_3.print_topics())\n",
        "doc_lda = lda_model_3[bow_corpus]\n",
        "\n",
        "lda_df = lda_model_3.get_document_topics(bow_corpus,minimum_probability=0)\n",
        "lda_df = pd.DataFrame(list(lda_df))\n",
        "\n",
        "num_topics = lda_model_3.num_topics\n",
        "\n",
        "lda_df.columns = ['Topic'+str(i) for i in range(num_topics)]\n",
        "for i in range(len(lda_df.columns)):\n",
        "    lda_df.iloc[:,i]=lda_df.iloc[:,i].apply(lambda x: x[1])\n",
        "lda_df['Automated_topic_id'] =lda_df.apply(lambda x: np.argmax(x),axis=1)\n",
        "lda_df.head()"
      ]
    },
    {
      "cell_type": "code",
      "source": [
        "Topic_label = []\n",
        "Topic_id = []\n",
        "for row in lda_df['Automated_topic_id']:\n",
        "    if row==0 :    Topic_label.append('Commercial') \n",
        "    elif row==1:   Topic_label.append('Dell Technology') \n",
        "    else:           Topic_label.append('Business') \n",
        "\n",
        "\n",
        "for row in lda_df['Automated_topic_id']:\n",
        "    if row==0 :    Topic_id.append(0)\n",
        "    elif row==1:    Topic_id.append(1)  \n",
        "    else:           Topic_id.append(2)"
      ],
      "metadata": {
        "id": "A65X0QnTHOI3"
      },
      "execution_count": 31,
      "outputs": []
    },
    {
      "cell_type": "code",
      "source": [
        "Topic_df = lda_df.assign(Topic = Topic_label)"
      ],
      "metadata": {
        "id": "3HIAuW0SIvqL"
      },
      "execution_count": 32,
      "outputs": []
    },
    {
      "cell_type": "code",
      "source": [
        "temp_df = df.get_group(ceo_username) "
      ],
      "metadata": {
        "id": "KmYkNs_OI_wh"
      },
      "execution_count": 33,
      "outputs": []
    },
    {
      "cell_type": "code",
      "source": [
        "final_df = temp_df.assign(Topic = Topic_label)\n",
        "final_df = final_df.assign(Topic_Id = Topic_id)"
      ],
      "metadata": {
        "id": "J9xIUG6IKVRL"
      },
      "execution_count": 34,
      "outputs": []
    },
    {
      "cell_type": "code",
      "source": [
        "final_df.groupby(['Topic']).sum().plot(kind='pie', y='Topic_Id', autopct='%2.0f%%',\n",
        "                                colors = ['red', 'pink', 'steelblue'],\n",
        "                                title='Topic Tweets Analysis for Michael Dell')"
      ],
      "metadata": {
        "colab": {
          "base_uri": "https://localhost:8080/",
          "height": 282
        },
        "id": "2k6dz2YvOrCj",
        "outputId": "c3738f44-a972-465a-f4d0-d8e518cb73f3"
      },
      "execution_count": 35,
      "outputs": [
        {
          "output_type": "execute_result",
          "data": {
            "text/plain": [
              "<matplotlib.axes._subplots.AxesSubplot at 0x7f060de969d0>"
            ]
          },
          "metadata": {},
          "execution_count": 35
        },
        {
          "output_type": "display_data",
          "data": {
            "text/plain": [
              "<Figure size 432x288 with 1 Axes>"
            ],
            "image/png": "[encoded data removed]"
          },
          "metadata": {}
        }
      ]
    },
    {
      "cell_type": "code",
      "source": [
        "#In this analysis we include both Topic 1 and Topic 2\n",
        "business_news = final_df[final_df.Topic_Id != 0]\n",
        "\n",
        "business_news"
      ],
      "metadata": {
        "colab": {
          "base_uri": "https://localhost:8080/",
          "height": 1000
        },
        "id": "CDy20MRHPgaE",
        "outputId": "bc2cee2f-0d3b-4ddb-b884-bfadb89c4ce4"
      },
      "execution_count": 36,
      "outputs": [
        {
          "output_type": "execute_result",
          "data": {
            "text/plain": [
              "           username            id             date  \\\n",
              "16234  @MichaelDell  1.520000e+18  4/28/2022 18:22   \n",
              "16235  @MichaelDell  1.520000e+18  4/22/2022 22:19   \n",
              "16237  @MichaelDell  1.520000e+18  4/22/2022 21:16   \n",
              "16240  @MichaelDell  1.510000e+18   4/14/2022 0:17   \n",
              "16241  @MichaelDell  1.510000e+18   4/14/2022 0:09   \n",
              "...             ...           ...              ...   \n",
              "19412  @MichaelDell  4.510000e+17    4/2/2014 3:35   \n",
              "19413  @MichaelDell  4.510000e+17    4/2/2014 3:34   \n",
              "19415  @MichaelDell  4.500000e+17  3/28/2014 19:22   \n",
              "19417  @MichaelDell  4.480000e+17  3/24/2014 17:24   \n",
              "19419  @MichaelDell  4.480000e+17  3/24/2014 16:21   \n",
              "\n",
              "                                                   tweet  retweets    likes  \\\n",
              "16234  Here are the similarities and differences betw...    1163.0  19662.0   \n",
              "16235  Making infrastructure available for our custom...       8.0     53.0   \n",
              "16237  At @DellTech we're committed to building a bet...       6.0     63.0   \n",
              "16240  Our @DellTechPartner teams have played a key r...      24.0    158.0   \n",
              "16241  RT @DellStorage: Get ready to unleash a modern...      60.0      0.0   \n",
              "...                                                  ...       ...      ...   \n",
              "19412  RT @Dell: Dell Extends Collaboration with Goog...      10.0      0.0   \n",
              "19413  RT @Dell: .@Oracle @OracleHCM extends, expands...       6.0      0.0   \n",
              "19415  RT @Inc: .@MichaelDell on why cybersecurity is...      43.0      0.0   \n",
              "19417  A big @Dell welcome to the @StatSoft team! We’...      44.0     10.0   \n",
              "19419  RT @StatSoft: It's true: Our long track record...       7.0      0.0   \n",
              "\n",
              "                          mentions                       tags  \\\n",
              "16234    [Dell, Twitter, elonmusk]                         []   \n",
              "16235                   [DellTech]                         []   \n",
              "16237                   [DellTech]                         []   \n",
              "16240  [DellTechPartner, DellTech]                         []   \n",
              "16241                [DellStorage]            [DellTechWorld]   \n",
              "...                            ...                        ...   \n",
              "19412                       [Dell]                [Chromebox]   \n",
              "19413     [Dell, Boomi, OracleHCM]                    [iPaaS]   \n",
              "19415                        [Inc]                         []   \n",
              "19417             [Dell, StatSoft]                         []   \n",
              "19419                   [StatSoft]  [STAT, AdvancedAnalytics]   \n",
              "\n",
              "                                             tweet_clean  \\\n",
              "16234  Here are the similarities and differences betw...   \n",
              "16235  Making infrastructure available for our custom...   \n",
              "16237  At we're committed to building a better world ...   \n",
              "16240  Our teams have played a key role in our contin...   \n",
              "16241  RT : Get ready to unleash a modern storage exp...   \n",
              "...                                                  ...   \n",
              "19412  RT : Dell Extends Collaboration with Google to...   \n",
              "19413  RT : .@Oracle extends, expands relationship wi...   \n",
              "19415  RT : .@MichaelDell on why cybersecurity is the...   \n",
              "19417  A big welcome to the team! We’re very excited ...   \n",
              "19419  RT : It's true: Our long track record of growt...   \n",
              "\n",
              "                                            tweet_tokens  \\\n",
              "16234  [similarities, differences, take, private, tak...   \n",
              "16235  [making, infrastructure, available, customers,...   \n",
              "16237  [committed, building, better, world, customers...   \n",
              "16240  [teams, played, key, role, continued, success,...   \n",
              "16241  [get, ready, unleash, modern, storage, experie...   \n",
              "...                                                  ...   \n",
              "19412  [dell, extends, collaboration, google, enable,...   \n",
              "19413     [oracle, extends, expands, relationship, dell]   \n",
              "19415  [michaeldell, cybersecurity, 1, u, business, r...   \n",
              "19417     [big, welcome, team, excited, welcome, family]   \n",
              "19419  [true, long, track, record, growth, success, c...   \n",
              "\n",
              "                                        tweet_tokens_lem  \\\n",
              "16234  [similarity, difference, take, private, take, ...   \n",
              "16235  [making, infrastructure, available, customer, ...   \n",
              "16237  [committed, building, better, world, customer,...   \n",
              "16240  [team, played, key, role, continued, success, ...   \n",
              "16241  [get, ready, unleash, modern, storage, experie...   \n",
              "...                                                  ...   \n",
              "19412  [dell, extends, collaboration, google, enable,...   \n",
              "19413     [oracle, extends, expands, relationship, dell]   \n",
              "19415  [michaeldell, cybersecurity, 1, u, business, r...   \n",
              "19417     [big, welcome, team, excited, welcome, family]   \n",
              "19419  [true, long, track, record, growth, success, c...   \n",
              "\n",
              "                                               tweet_new  \\\n",
              "16234  [similarities, differences, elonmusk, take, pr...   \n",
              "16235  [making, infrastructure, available, customers,...   \n",
              "16237  [delltech, committed, building, better, world,...   \n",
              "16240  [delltechpartner, teams, played, key, role, co...   \n",
              "16241  [dellstorage, get, ready, unleash, modern, sto...   \n",
              "...                                                  ...   \n",
              "19412  [dell, dell, extends, collaboration, google, e...   \n",
              "19413  [dell, oracle, oraclehcm, extends, expands, re...   \n",
              "19415  [inc, michaeldell, cybersecurity, 1, u, busine...   \n",
              "19417  [big, dell, welcome, statsoft, team, excited, ...   \n",
              "19419  [statsoft, true, long, track, record, growth, ...   \n",
              "\n",
              "                                           tweet_new_str            Topic  \\\n",
              "16234  similarities,differences,elonmusk,take,private...  Dell Technology   \n",
              "16235  making,infrastructure,available,customers,solu...         Business   \n",
              "16237  delltech,committed,building,better,world,custo...         Business   \n",
              "16240  delltechpartner,teams,played,key,role,continue...  Dell Technology   \n",
              "16241  dellstorage,get,ready,unleash,modern,storage,e...  Dell Technology   \n",
              "...                                                  ...              ...   \n",
              "19412  dell,dell,extends,collaboration,google,enable,...         Business   \n",
              "19413  dell,oracle,oraclehcm,extends,expands,relation...  Dell Technology   \n",
              "19415    inc,michaeldell,cybersecurity,1,u,business,risk  Dell Technology   \n",
              "19417  big,dell,welcome,statsoft,team,excited,welcome...  Dell Technology   \n",
              "19419  statsoft,true,long,track,record,growth,success...         Business   \n",
              "\n",
              "       Topic_Id  \n",
              "16234         1  \n",
              "16235         2  \n",
              "16237         2  \n",
              "16240         1  \n",
              "16241         1  \n",
              "...         ...  \n",
              "19412         2  \n",
              "19413         1  \n",
              "19415         1  \n",
              "19417         1  \n",
              "19419         2  \n",
              "\n",
              "[2112 rows x 15 columns]"
            ],
            "text/html": [
              "\n",
              "  <div id=\"df-077d3d7c-38b3-4682-8fc6-03b0b9c11b89\">\n",
              "    <div class=\"colab-df-container\">\n",
              "      <div>\n",
              "<style scoped>\n",
              "    .dataframe tbody tr th:only-of-type {\n",
              "        vertical-align: middle;\n",
              "    }\n",
              "\n",
              "    .dataframe tbody tr th {\n",
              "        vertical-align: top;\n",
              "    }\n",
              "\n",
              "    .dataframe thead th {\n",
              "        text-align: right;\n",
              "    }\n",
              "</style>\n",
              "<table border=\"1\" class=\"dataframe\">\n",
              "  <thead>\n",
              "    <tr style=\"text-align: right;\">\n",
              "      <th></th>\n",
              "      <th>username</th>\n",
              "      <th>id</th>\n",
              "      <th>date</th>\n",
              "      <th>tweet</th>\n",
              "      <th>retweets</th>\n",
              "      <th>likes</th>\n",
              "      <th>mentions</th>\n",
              "      <th>tags</th>\n",
              "      <th>tweet_clean</th>\n",
              "      <th>tweet_tokens</th>\n",
              "      <th>tweet_tokens_lem</th>\n",
              "      <th>tweet_new</th>\n",
              "      <th>tweet_new_str</th>\n",
              "      <th>Topic</th>\n",
              "      <th>Topic_Id</th>\n",
              "    </tr>\n",
              "  </thead>\n",
              "  <tbody>\n",
              "    <tr>\n",
              "      <th>16234</th>\n",
              "      <td>@MichaelDell</td>\n",
              "      <td>1.520000e+18</td>\n",
              "      <td>4/28/2022 18:22</td>\n",
              "      <td>Here are the similarities and differences betw...</td>\n",
              "      <td>1163.0</td>\n",
              "      <td>19662.0</td>\n",
              "      <td>[Dell, Twitter, elonmusk]</td>\n",
              "      <td>[]</td>\n",
              "      <td>Here are the similarities and differences betw...</td>\n",
              "      <td>[similarities, differences, take, private, tak...</td>\n",
              "      <td>[similarity, difference, take, private, take, ...</td>\n",
              "      <td>[similarities, differences, elonmusk, take, pr...</td>\n",
              "      <td>similarities,differences,elonmusk,take,private...</td>\n",
              "      <td>Dell Technology</td>\n",
              "      <td>1</td>\n",
              "    </tr>\n",
              "    <tr>\n",
              "      <th>16235</th>\n",
              "      <td>@MichaelDell</td>\n",
              "      <td>1.520000e+18</td>\n",
              "      <td>4/22/2022 22:19</td>\n",
              "      <td>Making infrastructure available for our custom...</td>\n",
              "      <td>8.0</td>\n",
              "      <td>53.0</td>\n",
              "      <td>[DellTech]</td>\n",
              "      <td>[]</td>\n",
              "      <td>Making infrastructure available for our custom...</td>\n",
              "      <td>[making, infrastructure, available, customers,...</td>\n",
              "      <td>[making, infrastructure, available, customer, ...</td>\n",
              "      <td>[making, infrastructure, available, customers,...</td>\n",
              "      <td>making,infrastructure,available,customers,solu...</td>\n",
              "      <td>Business</td>\n",
              "      <td>2</td>\n",
              "    </tr>\n",
              "    <tr>\n",
              "      <th>16237</th>\n",
              "      <td>@MichaelDell</td>\n",
              "      <td>1.520000e+18</td>\n",
              "      <td>4/22/2022 21:16</td>\n",
              "      <td>At @DellTech we're committed to building a bet...</td>\n",
              "      <td>6.0</td>\n",
              "      <td>63.0</td>\n",
              "      <td>[DellTech]</td>\n",
              "      <td>[]</td>\n",
              "      <td>At we're committed to building a better world ...</td>\n",
              "      <td>[committed, building, better, world, customers...</td>\n",
              "      <td>[committed, building, better, world, customer,...</td>\n",
              "      <td>[delltech, committed, building, better, world,...</td>\n",
              "      <td>delltech,committed,building,better,world,custo...</td>\n",
              "      <td>Business</td>\n",
              "      <td>2</td>\n",
              "    </tr>\n",
              "    <tr>\n",
              "      <th>16240</th>\n",
              "      <td>@MichaelDell</td>\n",
              "      <td>1.510000e+18</td>\n",
              "      <td>4/14/2022 0:17</td>\n",
              "      <td>Our @DellTechPartner teams have played a key r...</td>\n",
              "      <td>24.0</td>\n",
              "      <td>158.0</td>\n",
              "      <td>[DellTechPartner, DellTech]</td>\n",
              "      <td>[]</td>\n",
              "      <td>Our teams have played a key role in our contin...</td>\n",
              "      <td>[teams, played, key, role, continued, success,...</td>\n",
              "      <td>[team, played, key, role, continued, success, ...</td>\n",
              "      <td>[delltechpartner, teams, played, key, role, co...</td>\n",
              "      <td>delltechpartner,teams,played,key,role,continue...</td>\n",
              "      <td>Dell Technology</td>\n",
              "      <td>1</td>\n",
              "    </tr>\n",
              "    <tr>\n",
              "      <th>16241</th>\n",
              "      <td>@MichaelDell</td>\n",
              "      <td>1.510000e+18</td>\n",
              "      <td>4/14/2022 0:09</td>\n",
              "      <td>RT @DellStorage: Get ready to unleash a modern...</td>\n",
              "      <td>60.0</td>\n",
              "      <td>0.0</td>\n",
              "      <td>[DellStorage]</td>\n",
              "      <td>[DellTechWorld]</td>\n",
              "      <td>RT : Get ready to unleash a modern storage exp...</td>\n",
              "      <td>[get, ready, unleash, modern, storage, experie...</td>\n",
              "      <td>[get, ready, unleash, modern, storage, experie...</td>\n",
              "      <td>[dellstorage, get, ready, unleash, modern, sto...</td>\n",
              "      <td>dellstorage,get,ready,unleash,modern,storage,e...</td>\n",
              "      <td>Dell Technology</td>\n",
              "      <td>1</td>\n",
              "    </tr>\n",
              "    <tr>\n",
              "      <th>...</th>\n",
              "      <td>...</td>\n",
              "      <td>...</td>\n",
              "      <td>...</td>\n",
              "      <td>...</td>\n",
              "      <td>...</td>\n",
              "      <td>...</td>\n",
              "      <td>...</td>\n",
              "      <td>...</td>\n",
              "      <td>...</td>\n",
              "      <td>...</td>\n",
              "      <td>...</td>\n",
              "      <td>...</td>\n",
              "      <td>...</td>\n",
              "      <td>...</td>\n",
              "      <td>...</td>\n",
              "    </tr>\n",
              "    <tr>\n",
              "      <th>19412</th>\n",
              "      <td>@MichaelDell</td>\n",
              "      <td>4.510000e+17</td>\n",
              "      <td>4/2/2014 3:35</td>\n",
              "      <td>RT @Dell: Dell Extends Collaboration with Goog...</td>\n",
              "      <td>10.0</td>\n",
              "      <td>0.0</td>\n",
              "      <td>[Dell]</td>\n",
              "      <td>[Chromebox]</td>\n",
              "      <td>RT : Dell Extends Collaboration with Google to...</td>\n",
              "      <td>[dell, extends, collaboration, google, enable,...</td>\n",
              "      <td>[dell, extends, collaboration, google, enable,...</td>\n",
              "      <td>[dell, dell, extends, collaboration, google, e...</td>\n",
              "      <td>dell,dell,extends,collaboration,google,enable,...</td>\n",
              "      <td>Business</td>\n",
              "      <td>2</td>\n",
              "    </tr>\n",
              "    <tr>\n",
              "      <th>19413</th>\n",
              "      <td>@MichaelDell</td>\n",
              "      <td>4.510000e+17</td>\n",
              "      <td>4/2/2014 3:34</td>\n",
              "      <td>RT @Dell: .@Oracle @OracleHCM extends, expands...</td>\n",
              "      <td>6.0</td>\n",
              "      <td>0.0</td>\n",
              "      <td>[Dell, Boomi, OracleHCM]</td>\n",
              "      <td>[iPaaS]</td>\n",
              "      <td>RT : .@Oracle extends, expands relationship wi...</td>\n",
              "      <td>[oracle, extends, expands, relationship, dell]</td>\n",
              "      <td>[oracle, extends, expands, relationship, dell]</td>\n",
              "      <td>[dell, oracle, oraclehcm, extends, expands, re...</td>\n",
              "      <td>dell,oracle,oraclehcm,extends,expands,relation...</td>\n",
              "      <td>Dell Technology</td>\n",
              "      <td>1</td>\n",
              "    </tr>\n",
              "    <tr>\n",
              "      <th>19415</th>\n",
              "      <td>@MichaelDell</td>\n",
              "      <td>4.500000e+17</td>\n",
              "      <td>3/28/2014 19:22</td>\n",
              "      <td>RT @Inc: .@MichaelDell on why cybersecurity is...</td>\n",
              "      <td>43.0</td>\n",
              "      <td>0.0</td>\n",
              "      <td>[Inc]</td>\n",
              "      <td>[]</td>\n",
              "      <td>RT : .@MichaelDell on why cybersecurity is the...</td>\n",
              "      <td>[michaeldell, cybersecurity, 1, u, business, r...</td>\n",
              "      <td>[michaeldell, cybersecurity, 1, u, business, r...</td>\n",
              "      <td>[inc, michaeldell, cybersecurity, 1, u, busine...</td>\n",
              "      <td>inc,michaeldell,cybersecurity,1,u,business,risk</td>\n",
              "      <td>Dell Technology</td>\n",
              "      <td>1</td>\n",
              "    </tr>\n",
              "    <tr>\n",
              "      <th>19417</th>\n",
              "      <td>@MichaelDell</td>\n",
              "      <td>4.480000e+17</td>\n",
              "      <td>3/24/2014 17:24</td>\n",
              "      <td>A big @Dell welcome to the @StatSoft team! We’...</td>\n",
              "      <td>44.0</td>\n",
              "      <td>10.0</td>\n",
              "      <td>[Dell, StatSoft]</td>\n",
              "      <td>[]</td>\n",
              "      <td>A big welcome to the team! We’re very excited ...</td>\n",
              "      <td>[big, welcome, team, excited, welcome, family]</td>\n",
              "      <td>[big, welcome, team, excited, welcome, family]</td>\n",
              "      <td>[big, dell, welcome, statsoft, team, excited, ...</td>\n",
              "      <td>big,dell,welcome,statsoft,team,excited,welcome...</td>\n",
              "      <td>Dell Technology</td>\n",
              "      <td>1</td>\n",
              "    </tr>\n",
              "    <tr>\n",
              "      <th>19419</th>\n",
              "      <td>@MichaelDell</td>\n",
              "      <td>4.480000e+17</td>\n",
              "      <td>3/24/2014 16:21</td>\n",
              "      <td>RT @StatSoft: It's true: Our long track record...</td>\n",
              "      <td>7.0</td>\n",
              "      <td>0.0</td>\n",
              "      <td>[StatSoft]</td>\n",
              "      <td>[STAT, AdvancedAnalytics]</td>\n",
              "      <td>RT : It's true: Our long track record of growt...</td>\n",
              "      <td>[true, long, track, record, growth, success, c...</td>\n",
              "      <td>[true, long, track, record, growth, success, c...</td>\n",
              "      <td>[statsoft, true, long, track, record, growth, ...</td>\n",
              "      <td>statsoft,true,long,track,record,growth,success...</td>\n",
              "      <td>Business</td>\n",
              "      <td>2</td>\n",
              "    </tr>\n",
              "  </tbody>\n",
              "</table>\n",
              "<p>2112 rows × 15 columns</p>\n",
              "</div>\n",
              "      <button class=\"colab-df-convert\" onclick=\"convertToInteractive('df-077d3d7c-38b3-4682-8fc6-03b0b9c11b89')\"\n",
              "              title=\"Convert this dataframe to an interactive table.\"\n",
              "              style=\"display:none;\">\n",
              "        \n",
              "  <svg xmlns=\"http://www.w3.org/2000/svg\" height=\"24px\"viewBox=\"0 0 24 24\"\n",
              "       width=\"24px\">\n",
              "    <path d=\"M0 0h24v24H0V0z\" fill=\"none\"/>\n",
              "    <path d=\"M18.56 5.44l.94 2.06.94-2.06 2.06-.94-2.06-.94-.94-2.06-.94 2.06-2.06.94zm-11 1L8.5 8.5l.94-2.06 2.06-.94-2.06-.94L8.5 2.5l-.94 2.06-2.06.94zm10 10l.94 2.06.94-2.06 2.06-.94-2.06-.94-.94-2.06-.94 2.06-2.06.94z\"/><path d=\"M17.41 7.96l-1.37-1.37c-.4-.4-.92-.59-1.43-.59-.52 0-1.04.2-1.43.59L10.3 9.45l-7.72 7.72c-.78.78-.78 2.05 0 2.83L4 21.41c.39.39.9.59 1.41.59.51 0 1.02-.2 1.41-.59l7.78-7.78 2.81-2.81c.8-.78.8-2.07 0-2.86zM5.41 20L4 18.59l7.72-7.72 1.47 1.35L5.41 20z\"/>\n",
              "  </svg>\n",
              "      </button>\n",
              "      \n",
              "  <style>\n",
              "    .colab-df-container {\n",
              "      display:flex;\n",
              "      flex-wrap:wrap;\n",
              "      gap: 12px;\n",
              "    }\n",
              "\n",
              "    .colab-df-convert {\n",
              "      background-color: #E8F0FE;\n",
              "      border: none;\n",
              "      border-radius: 50%;\n",
              "      cursor: pointer;\n",
              "      display: none;\n",
              "      fill: #1967D2;\n",
              "      height: 32px;\n",
              "      padding: 0 0 0 0;\n",
              "      width: 32px;\n",
              "    }\n",
              "\n",
              "    .colab-df-convert:hover {\n",
              "      background-color: #E2EBFA;\n",
              "      box-shadow: 0px 1px 2px rgba(60, 64, 67, 0.3), 0px 1px 3px 1px rgba(60, 64, 67, 0.15);\n",
              "      fill: #174EA6;\n",
              "    }\n",
              "\n",
              "    [theme=dark] .colab-df-convert {\n",
              "      background-color: #3B4455;\n",
              "      fill: #D2E3FC;\n",
              "    }\n",
              "\n",
              "    [theme=dark] .colab-df-convert:hover {\n",
              "      background-color: #434B5C;\n",
              "      box-shadow: 0px 1px 3px 1px rgba(0, 0, 0, 0.15);\n",
              "      filter: drop-shadow(0px 1px 2px rgba(0, 0, 0, 0.3));\n",
              "      fill: #FFFFFF;\n",
              "    }\n",
              "  </style>\n",
              "\n",
              "      <script>\n",
              "        const buttonEl =\n",
              "          document.querySelector('#df-077d3d7c-38b3-4682-8fc6-03b0b9c11b89 button.colab-df-convert');\n",
              "        buttonEl.style.display =\n",
              "          google.colab.kernel.accessAllowed ? 'block' : 'none';\n",
              "\n",
              "        async function convertToInteractive(key) {\n",
              "          const element = document.querySelector('#df-077d3d7c-38b3-4682-8fc6-03b0b9c11b89');\n",
              "          const dataTable =\n",
              "            await google.colab.kernel.invokeFunction('convertToInteractive',\n",
              "                                                     [key], {});\n",
              "          if (!dataTable) return;\n",
              "\n",
              "          const docLinkHtml = 'Like what you see? Visit the ' +\n",
              "            '<a target=\"_blank\" href=https://colab.research.google.com/notebooks/data_table.ipynb>data table notebook</a>'\n",
              "            + ' to learn more about interactive tables.';\n",
              "          element.innerHTML = '';\n",
              "          dataTable['output_type'] = 'display_data';\n",
              "          await google.colab.output.renderOutput(dataTable, element);\n",
              "          const docLink = document.createElement('div');\n",
              "          docLink.innerHTML = docLinkHtml;\n",
              "          element.appendChild(docLink);\n",
              "        }\n",
              "      </script>\n",
              "    </div>\n",
              "  </div>\n",
              "  "
            ]
          },
          "metadata": {},
          "execution_count": 36
        }
      ]
    },
    {
      "cell_type": "code",
      "source": [
        "business_news.to_pickle('business_tweets.pkl')"
      ],
      "metadata": {
        "id": "KCvMqJviRM19"
      },
      "execution_count": null,
      "outputs": []
    }
  ],
  "metadata": {
    "colab": {
      "collapsed_sections": [
        "p6uLw_VKPcgI",
        "CfRLTFEqP8bF",
        "-bOCdbgXkM1W",
        "rksfMttqqz6H",
        "vr5uriG33fDS"
      ],
      "name": "CEO_Applying_Topic_Modelling.ipynb",
      "provenance": []
    },
    "kernelspec": {
      "display_name": "Python 3",
      "name": "python3"
    },
    "language_info": {
      "name": "python"
    },
    "accelerator": "GPU",
    "gpuClass": "standard"
  },
  "nbformat": 4,
  "nbformat_minor": 0
}